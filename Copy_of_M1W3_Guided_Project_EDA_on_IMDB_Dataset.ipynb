{
  "nbformat": 4,
  "nbformat_minor": 0,
  "metadata": {
    "kernelspec": {
      "display_name": "Python 3",
      "language": "python",
      "name": "python3"
    },
    "language_info": {
      "codemirror_mode": {
        "name": "ipython",
        "version": 3
      },
      "file_extension": ".py",
      "mimetype": "text/x-python",
      "name": "python",
      "nbconvert_exporter": "python",
      "pygments_lexer": "ipython3",
      "version": "3.7.1"
    },
    "colab": {
      "provenance": [],
      "collapsed_sections": [],
      "include_colab_link": true
    }
  },
  "cells": [
    {
      "cell_type": "markdown",
      "metadata": {
        "id": "view-in-github",
        "colab_type": "text"
      },
      "source": [
        "<a href=\"https://colab.research.google.com/github/avigangarde/EDA-on-IMDB-dataset/blob/main/Copy_of_M1W3_Guided_Project_EDA_on_IMDB_Dataset.ipynb\" target=\"_parent\"><img src=\"https://colab.research.google.com/assets/colab-badge.svg\" alt=\"Open In Colab\"/></a>"
      ]
    },
    {
      "cell_type": "markdown",
      "metadata": {
        "id": "3_Fv7J8jTBlu"
      },
      "source": [
        "## You have been hired by a rookie movie producer to help him decide what type of movies to produce and which actors to cast. You have to back your recommendations based on thorough analysis of the data he shared with you which has the list of 3000 movies and the corresponding details.\n",
        "\n",
        "## As a data scientist, you have to first explore the data and check its sanity.\n",
        "\n",
        "## Further, you have to answer the following questions:\n",
        "1. ### <b> Which movie made the highest profit? Who were its producer and director? Identify the actors in that film.</b>\n",
        "2. ### <b>This data has information about movies made in different languages. Which language has the highest average ROI (return on investment)? </b>\n",
        "3. ### <b> Find out the unique genres of movies in this dataset.</b>\n",
        "4. ### <b> Make a table of all the producers and directors of each movie. Find the top 3 producers who have produced movies with the highest average RoI? </b>\n",
        "5. ### <b> Which actor has acted in the most number of movies? Deep dive into the movies, genres and profits corresponding to this actor. </b>\n",
        "6. ### <b>Top 3 directors prefer which actors the most? </b>\n",
        "\n"
      ]
    },
    {
      "cell_type": "markdown",
      "metadata": {
        "id": "Fx8CVjtZW_BF"
      },
      "source": [
        "# Data Exploration"
      ]
    },
    {
      "cell_type": "code",
      "metadata": {
        "id": "vq7iMfybnKNP"
      },
      "source": [
        "#Import package\n",
        "import pandas as pd\n",
        "import numpy as np"
      ],
      "execution_count": 260,
      "outputs": []
    },
    {
      "cell_type": "code",
      "source": [
        "'mounting of google drive'\n",
        "from google.colab import drive\n",
        "drive.mount('/content/drive')"
      ],
      "metadata": {
        "colab": {
          "base_uri": "https://localhost:8080/"
        },
        "id": "D4bgTBKs4585",
        "outputId": "50cbd504-1538-4c39-a673-74fd6238ecfd"
      },
      "execution_count": 261,
      "outputs": [
        {
          "output_type": "stream",
          "name": "stdout",
          "text": [
            "Drive already mounted at /content/drive; to attempt to forcibly remount, call drive.mount(\"/content/drive\", force_remount=True).\n"
          ]
        }
      ]
    },
    {
      "cell_type": "code",
      "source": [
        "file_path='/content/drive/MyDrive/capstone csv files/imdb_data.csv'\n",
        "imdb_df=pd.read_csv('/content/drive/MyDrive/capstone csv files/imdb_data.csv')"
      ],
      "metadata": {
        "id": "sVfipD_y5UJH"
      },
      "execution_count": 262,
      "outputs": []
    },
    {
      "cell_type": "code",
      "source": [
        "imdb_df.head(2)"
      ],
      "metadata": {
        "colab": {
          "base_uri": "https://localhost:8080/",
          "height": 431
        },
        "id": "O_WF6u9L5UsJ",
        "outputId": "7c8428cf-58aa-4554-9b9f-516e499d0cc0"
      },
      "execution_count": 263,
      "outputs": [
        {
          "output_type": "execute_result",
          "data": {
            "text/plain": [
              "   id                              belongs_to_collection    budget  \\\n",
              "0   1  [{'id': 313576, 'name': 'Hot Tub Time Machine ...  14000000   \n",
              "1   2  [{'id': 107674, 'name': 'The Princess Diaries ...  40000000   \n",
              "\n",
              "                                              genres homepage    imdb_id  \\\n",
              "0                     [{'id': 35, 'name': 'Comedy'}]      NaN  tt2637294   \n",
              "1  [{'id': 35, 'name': 'Comedy'}, {'id': 18, 'nam...      NaN  tt0368933   \n",
              "\n",
              "  original_language                            original_title  \\\n",
              "0                en                    Hot Tub Time Machine 2   \n",
              "1                en  The Princess Diaries 2: Royal Engagement   \n",
              "\n",
              "                                            overview  popularity  ...  \\\n",
              "0  When Lou, who has become the \"father of the In...    6.575393  ...   \n",
              "1  Mia Thermopolis is now a college graduate and ...    8.248895  ...   \n",
              "\n",
              "  release_date runtime                          spoken_languages    status  \\\n",
              "0      2/20/15    93.0  [{'iso_639_1': 'en', 'name': 'English'}]  Released   \n",
              "1       8/6/04   113.0  [{'iso_639_1': 'en', 'name': 'English'}]  Released   \n",
              "\n",
              "                                             tagline  \\\n",
              "0  The Laws of Space and Time are About to be Vio...   \n",
              "1  It can take a lifetime to find true love; she'...   \n",
              "\n",
              "                                      title  \\\n",
              "0                    Hot Tub Time Machine 2   \n",
              "1  The Princess Diaries 2: Royal Engagement   \n",
              "\n",
              "                                            Keywords  \\\n",
              "0  [{'id': 4379, 'name': 'time travel'}, {'id': 9...   \n",
              "1  [{'id': 2505, 'name': 'coronation'}, {'id': 42...   \n",
              "\n",
              "                                                cast  \\\n",
              "0  [{'cast_id': 4, 'character': 'Lou', 'credit_id...   \n",
              "1  [{'cast_id': 1, 'character': 'Mia Thermopolis'...   \n",
              "\n",
              "                                                crew   revenue  \n",
              "0  [{'credit_id': '59ac067c92514107af02c8c8', 'de...  12314651  \n",
              "1  [{'credit_id': '52fe43fe9251416c7502563d', 'de...  95149435  \n",
              "\n",
              "[2 rows x 23 columns]"
            ],
            "text/html": [
              "\n",
              "  <div id=\"df-c9ca3654-7a75-45d2-8c94-2b8d560f4152\">\n",
              "    <div class=\"colab-df-container\">\n",
              "      <div>\n",
              "<style scoped>\n",
              "    .dataframe tbody tr th:only-of-type {\n",
              "        vertical-align: middle;\n",
              "    }\n",
              "\n",
              "    .dataframe tbody tr th {\n",
              "        vertical-align: top;\n",
              "    }\n",
              "\n",
              "    .dataframe thead th {\n",
              "        text-align: right;\n",
              "    }\n",
              "</style>\n",
              "<table border=\"1\" class=\"dataframe\">\n",
              "  <thead>\n",
              "    <tr style=\"text-align: right;\">\n",
              "      <th></th>\n",
              "      <th>id</th>\n",
              "      <th>belongs_to_collection</th>\n",
              "      <th>budget</th>\n",
              "      <th>genres</th>\n",
              "      <th>homepage</th>\n",
              "      <th>imdb_id</th>\n",
              "      <th>original_language</th>\n",
              "      <th>original_title</th>\n",
              "      <th>overview</th>\n",
              "      <th>popularity</th>\n",
              "      <th>...</th>\n",
              "      <th>release_date</th>\n",
              "      <th>runtime</th>\n",
              "      <th>spoken_languages</th>\n",
              "      <th>status</th>\n",
              "      <th>tagline</th>\n",
              "      <th>title</th>\n",
              "      <th>Keywords</th>\n",
              "      <th>cast</th>\n",
              "      <th>crew</th>\n",
              "      <th>revenue</th>\n",
              "    </tr>\n",
              "  </thead>\n",
              "  <tbody>\n",
              "    <tr>\n",
              "      <th>0</th>\n",
              "      <td>1</td>\n",
              "      <td>[{'id': 313576, 'name': 'Hot Tub Time Machine ...</td>\n",
              "      <td>14000000</td>\n",
              "      <td>[{'id': 35, 'name': 'Comedy'}]</td>\n",
              "      <td>NaN</td>\n",
              "      <td>tt2637294</td>\n",
              "      <td>en</td>\n",
              "      <td>Hot Tub Time Machine 2</td>\n",
              "      <td>When Lou, who has become the \"father of the In...</td>\n",
              "      <td>6.575393</td>\n",
              "      <td>...</td>\n",
              "      <td>2/20/15</td>\n",
              "      <td>93.0</td>\n",
              "      <td>[{'iso_639_1': 'en', 'name': 'English'}]</td>\n",
              "      <td>Released</td>\n",
              "      <td>The Laws of Space and Time are About to be Vio...</td>\n",
              "      <td>Hot Tub Time Machine 2</td>\n",
              "      <td>[{'id': 4379, 'name': 'time travel'}, {'id': 9...</td>\n",
              "      <td>[{'cast_id': 4, 'character': 'Lou', 'credit_id...</td>\n",
              "      <td>[{'credit_id': '59ac067c92514107af02c8c8', 'de...</td>\n",
              "      <td>12314651</td>\n",
              "    </tr>\n",
              "    <tr>\n",
              "      <th>1</th>\n",
              "      <td>2</td>\n",
              "      <td>[{'id': 107674, 'name': 'The Princess Diaries ...</td>\n",
              "      <td>40000000</td>\n",
              "      <td>[{'id': 35, 'name': 'Comedy'}, {'id': 18, 'nam...</td>\n",
              "      <td>NaN</td>\n",
              "      <td>tt0368933</td>\n",
              "      <td>en</td>\n",
              "      <td>The Princess Diaries 2: Royal Engagement</td>\n",
              "      <td>Mia Thermopolis is now a college graduate and ...</td>\n",
              "      <td>8.248895</td>\n",
              "      <td>...</td>\n",
              "      <td>8/6/04</td>\n",
              "      <td>113.0</td>\n",
              "      <td>[{'iso_639_1': 'en', 'name': 'English'}]</td>\n",
              "      <td>Released</td>\n",
              "      <td>It can take a lifetime to find true love; she'...</td>\n",
              "      <td>The Princess Diaries 2: Royal Engagement</td>\n",
              "      <td>[{'id': 2505, 'name': 'coronation'}, {'id': 42...</td>\n",
              "      <td>[{'cast_id': 1, 'character': 'Mia Thermopolis'...</td>\n",
              "      <td>[{'credit_id': '52fe43fe9251416c7502563d', 'de...</td>\n",
              "      <td>95149435</td>\n",
              "    </tr>\n",
              "  </tbody>\n",
              "</table>\n",
              "<p>2 rows × 23 columns</p>\n",
              "</div>\n",
              "      <button class=\"colab-df-convert\" onclick=\"convertToInteractive('df-c9ca3654-7a75-45d2-8c94-2b8d560f4152')\"\n",
              "              title=\"Convert this dataframe to an interactive table.\"\n",
              "              style=\"display:none;\">\n",
              "        \n",
              "  <svg xmlns=\"http://www.w3.org/2000/svg\" height=\"24px\"viewBox=\"0 0 24 24\"\n",
              "       width=\"24px\">\n",
              "    <path d=\"M0 0h24v24H0V0z\" fill=\"none\"/>\n",
              "    <path d=\"M18.56 5.44l.94 2.06.94-2.06 2.06-.94-2.06-.94-.94-2.06-.94 2.06-2.06.94zm-11 1L8.5 8.5l.94-2.06 2.06-.94-2.06-.94L8.5 2.5l-.94 2.06-2.06.94zm10 10l.94 2.06.94-2.06 2.06-.94-2.06-.94-.94-2.06-.94 2.06-2.06.94z\"/><path d=\"M17.41 7.96l-1.37-1.37c-.4-.4-.92-.59-1.43-.59-.52 0-1.04.2-1.43.59L10.3 9.45l-7.72 7.72c-.78.78-.78 2.05 0 2.83L4 21.41c.39.39.9.59 1.41.59.51 0 1.02-.2 1.41-.59l7.78-7.78 2.81-2.81c.8-.78.8-2.07 0-2.86zM5.41 20L4 18.59l7.72-7.72 1.47 1.35L5.41 20z\"/>\n",
              "  </svg>\n",
              "      </button>\n",
              "      \n",
              "  <style>\n",
              "    .colab-df-container {\n",
              "      display:flex;\n",
              "      flex-wrap:wrap;\n",
              "      gap: 12px;\n",
              "    }\n",
              "\n",
              "    .colab-df-convert {\n",
              "      background-color: #E8F0FE;\n",
              "      border: none;\n",
              "      border-radius: 50%;\n",
              "      cursor: pointer;\n",
              "      display: none;\n",
              "      fill: #1967D2;\n",
              "      height: 32px;\n",
              "      padding: 0 0 0 0;\n",
              "      width: 32px;\n",
              "    }\n",
              "\n",
              "    .colab-df-convert:hover {\n",
              "      background-color: #E2EBFA;\n",
              "      box-shadow: 0px 1px 2px rgba(60, 64, 67, 0.3), 0px 1px 3px 1px rgba(60, 64, 67, 0.15);\n",
              "      fill: #174EA6;\n",
              "    }\n",
              "\n",
              "    [theme=dark] .colab-df-convert {\n",
              "      background-color: #3B4455;\n",
              "      fill: #D2E3FC;\n",
              "    }\n",
              "\n",
              "    [theme=dark] .colab-df-convert:hover {\n",
              "      background-color: #434B5C;\n",
              "      box-shadow: 0px 1px 3px 1px rgba(0, 0, 0, 0.15);\n",
              "      filter: drop-shadow(0px 1px 2px rgba(0, 0, 0, 0.3));\n",
              "      fill: #FFFFFF;\n",
              "    }\n",
              "  </style>\n",
              "\n",
              "      <script>\n",
              "        const buttonEl =\n",
              "          document.querySelector('#df-c9ca3654-7a75-45d2-8c94-2b8d560f4152 button.colab-df-convert');\n",
              "        buttonEl.style.display =\n",
              "          google.colab.kernel.accessAllowed ? 'block' : 'none';\n",
              "\n",
              "        async function convertToInteractive(key) {\n",
              "          const element = document.querySelector('#df-c9ca3654-7a75-45d2-8c94-2b8d560f4152');\n",
              "          const dataTable =\n",
              "            await google.colab.kernel.invokeFunction('convertToInteractive',\n",
              "                                                     [key], {});\n",
              "          if (!dataTable) return;\n",
              "\n",
              "          const docLinkHtml = 'Like what you see? Visit the ' +\n",
              "            '<a target=\"_blank\" href=https://colab.research.google.com/notebooks/data_table.ipynb>data table notebook</a>'\n",
              "            + ' to learn more about interactive tables.';\n",
              "          element.innerHTML = '';\n",
              "          dataTable['output_type'] = 'display_data';\n",
              "          await google.colab.output.renderOutput(dataTable, element);\n",
              "          const docLink = document.createElement('div');\n",
              "          docLink.innerHTML = docLinkHtml;\n",
              "          element.appendChild(docLink);\n",
              "        }\n",
              "      </script>\n",
              "    </div>\n",
              "  </div>\n",
              "  "
            ]
          },
          "metadata": {},
          "execution_count": 263
        }
      ]
    },
    {
      "cell_type": "code",
      "source": [
        "#'checkig the shape of the data or columns and rows present in data'\n",
        "imdb_df.shape"
      ],
      "metadata": {
        "colab": {
          "base_uri": "https://localhost:8080/"
        },
        "id": "BKGBlZ7-6FtK",
        "outputId": "c2d8d27a-b3a4-4074-a1ed-cad3e25ca6cd"
      },
      "execution_count": 264,
      "outputs": [
        {
          "output_type": "execute_result",
          "data": {
            "text/plain": [
              "(3000, 23)"
            ]
          },
          "metadata": {},
          "execution_count": 264
        }
      ]
    },
    {
      "cell_type": "code",
      "source": [
        "#'checking if there are any null values present in it'\n",
        "imdb_df.info()"
      ],
      "metadata": {
        "colab": {
          "base_uri": "https://localhost:8080/"
        },
        "id": "1dxmimHq6GFl",
        "outputId": "9abdb115-0b67-469a-8b72-1d823f0f9497"
      },
      "execution_count": 265,
      "outputs": [
        {
          "output_type": "stream",
          "name": "stdout",
          "text": [
            "<class 'pandas.core.frame.DataFrame'>\n",
            "RangeIndex: 3000 entries, 0 to 2999\n",
            "Data columns (total 23 columns):\n",
            " #   Column                 Non-Null Count  Dtype  \n",
            "---  ------                 --------------  -----  \n",
            " 0   id                     3000 non-null   int64  \n",
            " 1   belongs_to_collection  604 non-null    object \n",
            " 2   budget                 3000 non-null   int64  \n",
            " 3   genres                 2993 non-null   object \n",
            " 4   homepage               946 non-null    object \n",
            " 5   imdb_id                3000 non-null   object \n",
            " 6   original_language      3000 non-null   object \n",
            " 7   original_title         3000 non-null   object \n",
            " 8   overview               2992 non-null   object \n",
            " 9   popularity             3000 non-null   float64\n",
            " 10  poster_path            2999 non-null   object \n",
            " 11  production_companies   2844 non-null   object \n",
            " 12  production_countries   2945 non-null   object \n",
            " 13  release_date           3000 non-null   object \n",
            " 14  runtime                2998 non-null   float64\n",
            " 15  spoken_languages       2980 non-null   object \n",
            " 16  status                 3000 non-null   object \n",
            " 17  tagline                2403 non-null   object \n",
            " 18  title                  3000 non-null   object \n",
            " 19  Keywords               2724 non-null   object \n",
            " 20  cast                   2987 non-null   object \n",
            " 21  crew                   2984 non-null   object \n",
            " 22  revenue                3000 non-null   int64  \n",
            "dtypes: float64(2), int64(3), object(18)\n",
            "memory usage: 539.2+ KB\n"
          ]
        }
      ]
    },
    {
      "cell_type": "code",
      "source": [
        "type(imdb_df['belongs_to_collection'])"
      ],
      "metadata": {
        "colab": {
          "base_uri": "https://localhost:8080/"
        },
        "id": "LBVBhtHR6Gyc",
        "outputId": "095195fd-541e-4764-ff77-9b733113d9a8"
      },
      "execution_count": 266,
      "outputs": [
        {
          "output_type": "execute_result",
          "data": {
            "text/plain": [
              "pandas.core.series.Series"
            ]
          },
          "metadata": {},
          "execution_count": 266
        }
      ]
    },
    {
      "cell_type": "code",
      "source": [
        "#'we have seen that there are many null values present in dataset so we have handle that values carefully'"
      ],
      "metadata": {
        "id": "Kt35MMdt6G8e"
      },
      "execution_count": 267,
      "outputs": []
    },
    {
      "cell_type": "markdown",
      "source": [
        "# ***Step 1 : Cleaning of data***"
      ],
      "metadata": {
        "id": "bgpYS60DNn1v"
      }
    },
    {
      "cell_type": "code",
      "source": [
        "print(type(imdb_df.loc[0,'cast']))\n",
        "print(type(imdb_df.loc[0,'genres']))"
      ],
      "metadata": {
        "id": "BUofxcgD6HU8",
        "colab": {
          "base_uri": "https://localhost:8080/"
        },
        "outputId": "58e0d291-a8e2-4948-dfcd-8392dce3fc64"
      },
      "execution_count": 268,
      "outputs": [
        {
          "output_type": "stream",
          "name": "stdout",
          "text": [
            "<class 'str'>\n",
            "<class 'str'>\n"
          ]
        }
      ]
    },
    {
      "cell_type": "code",
      "source": [
        "#check the columns present in our dataset\n",
        "print(imdb_df.columns)"
      ],
      "metadata": {
        "id": "aK1uRI236Hl8",
        "colab": {
          "base_uri": "https://localhost:8080/"
        },
        "outputId": "79b08f99-239a-431c-910a-824fbb0d11b2"
      },
      "execution_count": 269,
      "outputs": [
        {
          "output_type": "stream",
          "name": "stdout",
          "text": [
            "Index(['id', 'belongs_to_collection', 'budget', 'genres', 'homepage',\n",
            "       'imdb_id', 'original_language', 'original_title', 'overview',\n",
            "       'popularity', 'poster_path', 'production_companies',\n",
            "       'production_countries', 'release_date', 'runtime', 'spoken_languages',\n",
            "       'status', 'tagline', 'title', 'Keywords', 'cast', 'crew', 'revenue'],\n",
            "      dtype='object')\n"
          ]
        }
      ]
    },
    {
      "cell_type": "code",
      "source": [
        "# lets keep the columns that we required for the data analysis\n",
        "columns_to_keep=['budget','genres','original_language','original_title','cast','crew','revenue']"
      ],
      "metadata": {
        "id": "rhQSCs8a6HwN"
      },
      "execution_count": 270,
      "outputs": []
    },
    {
      "cell_type": "code",
      "source": [
        "# find all the indexes for which 'genres' is not null\n",
        "imdb_df.loc[~imdb_df['genres'].isna(),'genres']"
      ],
      "metadata": {
        "id": "SlWpOBtt6H5_",
        "colab": {
          "base_uri": "https://localhost:8080/"
        },
        "outputId": "8e9a55d8-1f59-47f8-bc7f-bf81301d222d"
      },
      "execution_count": 271,
      "outputs": [
        {
          "output_type": "execute_result",
          "data": {
            "text/plain": [
              "0                          [{'id': 35, 'name': 'Comedy'}]\n",
              "1       [{'id': 35, 'name': 'Comedy'}, {'id': 18, 'nam...\n",
              "2                           [{'id': 18, 'name': 'Drama'}]\n",
              "3       [{'id': 53, 'name': 'Thriller'}, {'id': 18, 'n...\n",
              "4       [{'id': 28, 'name': 'Action'}, {'id': 53, 'nam...\n",
              "                              ...                        \n",
              "2995    [{'id': 35, 'name': 'Comedy'}, {'id': 10749, '...\n",
              "2996    [{'id': 18, 'name': 'Drama'}, {'id': 10402, 'n...\n",
              "2997    [{'id': 80, 'name': 'Crime'}, {'id': 28, 'name...\n",
              "2998    [{'id': 35, 'name': 'Comedy'}, {'id': 10749, '...\n",
              "2999    [{'id': 53, 'name': 'Thriller'}, {'id': 28, 'n...\n",
              "Name: genres, Length: 2993, dtype: object"
            ]
          },
          "metadata": {},
          "execution_count": 271
        }
      ]
    },
    {
      "cell_type": "code",
      "source": [
        "type(imdb_df.loc[0,'cast'])"
      ],
      "metadata": {
        "colab": {
          "base_uri": "https://localhost:8080/"
        },
        "id": "Sh-KH_DTROFc",
        "outputId": "658ebdcd-1375-4250-a992-73761afbc3f9"
      },
      "execution_count": 272,
      "outputs": [
        {
          "output_type": "execute_result",
          "data": {
            "text/plain": [
              "str"
            ]
          },
          "metadata": {},
          "execution_count": 272
        }
      ]
    },
    {
      "cell_type": "markdown",
      "source": [
        "### *Now we have found that these columns have string values we want to convert that into the list *\n",
        "## These columns are 'cast', 'crew', and 'genres' "
      ],
      "metadata": {
        "id": "BSIWnNZBS6l3"
      }
    },
    {
      "cell_type": "code",
      "source": [
        "#making a function for converting the string into list\n",
        "def str_to_list(str):\n",
        "  return eval(str)"
      ],
      "metadata": {
        "id": "Rvs5NLDMROXX"
      },
      "execution_count": 273,
      "outputs": []
    },
    {
      "cell_type": "code",
      "source": [
        "# lets apply this function to the non null values in columns\n",
        "imdb_df.loc[~imdb_df['genres'].isna(),'genres']=imdb_df.loc[~imdb_df['genres'].isna(),'genres'].apply(str_to_list)"
      ],
      "metadata": {
        "id": "ivG8ki0LROjt"
      },
      "execution_count": 274,
      "outputs": []
    },
    {
      "cell_type": "code",
      "source": [
        "imdb_df.loc[~imdb_df['cast'].isna(),'cast']=imdb_df.loc[~imdb_df['cast'].isna(),'cast'].apply(str_to_list)"
      ],
      "metadata": {
        "id": "TYO5ospMROv-"
      },
      "execution_count": 275,
      "outputs": []
    },
    {
      "cell_type": "code",
      "source": [
        "imdb_df.loc[~imdb_df['crew'].isna(),'crew']=imdb_df.loc[~imdb_df['crew'].isna(),'crew'].apply(str_to_list)"
      ],
      "metadata": {
        "id": "w2SUN54CRO7k"
      },
      "execution_count": 276,
      "outputs": []
    },
    {
      "cell_type": "code",
      "source": [
        "type(imdb_df.loc[0,'cast'])"
      ],
      "metadata": {
        "id": "P6WT4xMrRPG6"
      },
      "execution_count": null,
      "outputs": []
    },
    {
      "cell_type": "code",
      "source": [
        "new_imdb_df=imdb_df.copy()"
      ],
      "metadata": {
        "id": "_qdc3tCURPRN"
      },
      "execution_count": 278,
      "outputs": []
    },
    {
      "cell_type": "code",
      "source": [
        "new_imdb_df.head(2)"
      ],
      "metadata": {
        "colab": {
          "base_uri": "https://localhost:8080/",
          "height": 431
        },
        "id": "9HgWYV1sRPbj",
        "outputId": "2df2b057-6203-4a57-c117-f012a6d60576"
      },
      "execution_count": 279,
      "outputs": [
        {
          "output_type": "execute_result",
          "data": {
            "text/plain": [
              "   id                              belongs_to_collection    budget  \\\n",
              "0   1  [{'id': 313576, 'name': 'Hot Tub Time Machine ...  14000000   \n",
              "1   2  [{'id': 107674, 'name': 'The Princess Diaries ...  40000000   \n",
              "\n",
              "                                              genres homepage    imdb_id  \\\n",
              "0                     [{'id': 35, 'name': 'Comedy'}]      NaN  tt2637294   \n",
              "1  [{'id': 35, 'name': 'Comedy'}, {'id': 18, 'nam...      NaN  tt0368933   \n",
              "\n",
              "  original_language                            original_title  \\\n",
              "0                en                    Hot Tub Time Machine 2   \n",
              "1                en  The Princess Diaries 2: Royal Engagement   \n",
              "\n",
              "                                            overview  popularity  ...  \\\n",
              "0  When Lou, who has become the \"father of the In...    6.575393  ...   \n",
              "1  Mia Thermopolis is now a college graduate and ...    8.248895  ...   \n",
              "\n",
              "  release_date runtime                          spoken_languages    status  \\\n",
              "0      2/20/15    93.0  [{'iso_639_1': 'en', 'name': 'English'}]  Released   \n",
              "1       8/6/04   113.0  [{'iso_639_1': 'en', 'name': 'English'}]  Released   \n",
              "\n",
              "                                             tagline  \\\n",
              "0  The Laws of Space and Time are About to be Vio...   \n",
              "1  It can take a lifetime to find true love; she'...   \n",
              "\n",
              "                                      title  \\\n",
              "0                    Hot Tub Time Machine 2   \n",
              "1  The Princess Diaries 2: Royal Engagement   \n",
              "\n",
              "                                            Keywords  \\\n",
              "0  [{'id': 4379, 'name': 'time travel'}, {'id': 9...   \n",
              "1  [{'id': 2505, 'name': 'coronation'}, {'id': 42...   \n",
              "\n",
              "                                                cast  \\\n",
              "0  [{'cast_id': 4, 'character': 'Lou', 'credit_id...   \n",
              "1  [{'cast_id': 1, 'character': 'Mia Thermopolis'...   \n",
              "\n",
              "                                                crew   revenue  \n",
              "0  [{'credit_id': '59ac067c92514107af02c8c8', 'de...  12314651  \n",
              "1  [{'credit_id': '52fe43fe9251416c7502563d', 'de...  95149435  \n",
              "\n",
              "[2 rows x 23 columns]"
            ],
            "text/html": [
              "\n",
              "  <div id=\"df-f527989e-0b80-4735-917f-e9458d20480a\">\n",
              "    <div class=\"colab-df-container\">\n",
              "      <div>\n",
              "<style scoped>\n",
              "    .dataframe tbody tr th:only-of-type {\n",
              "        vertical-align: middle;\n",
              "    }\n",
              "\n",
              "    .dataframe tbody tr th {\n",
              "        vertical-align: top;\n",
              "    }\n",
              "\n",
              "    .dataframe thead th {\n",
              "        text-align: right;\n",
              "    }\n",
              "</style>\n",
              "<table border=\"1\" class=\"dataframe\">\n",
              "  <thead>\n",
              "    <tr style=\"text-align: right;\">\n",
              "      <th></th>\n",
              "      <th>id</th>\n",
              "      <th>belongs_to_collection</th>\n",
              "      <th>budget</th>\n",
              "      <th>genres</th>\n",
              "      <th>homepage</th>\n",
              "      <th>imdb_id</th>\n",
              "      <th>original_language</th>\n",
              "      <th>original_title</th>\n",
              "      <th>overview</th>\n",
              "      <th>popularity</th>\n",
              "      <th>...</th>\n",
              "      <th>release_date</th>\n",
              "      <th>runtime</th>\n",
              "      <th>spoken_languages</th>\n",
              "      <th>status</th>\n",
              "      <th>tagline</th>\n",
              "      <th>title</th>\n",
              "      <th>Keywords</th>\n",
              "      <th>cast</th>\n",
              "      <th>crew</th>\n",
              "      <th>revenue</th>\n",
              "    </tr>\n",
              "  </thead>\n",
              "  <tbody>\n",
              "    <tr>\n",
              "      <th>0</th>\n",
              "      <td>1</td>\n",
              "      <td>[{'id': 313576, 'name': 'Hot Tub Time Machine ...</td>\n",
              "      <td>14000000</td>\n",
              "      <td>[{'id': 35, 'name': 'Comedy'}]</td>\n",
              "      <td>NaN</td>\n",
              "      <td>tt2637294</td>\n",
              "      <td>en</td>\n",
              "      <td>Hot Tub Time Machine 2</td>\n",
              "      <td>When Lou, who has become the \"father of the In...</td>\n",
              "      <td>6.575393</td>\n",
              "      <td>...</td>\n",
              "      <td>2/20/15</td>\n",
              "      <td>93.0</td>\n",
              "      <td>[{'iso_639_1': 'en', 'name': 'English'}]</td>\n",
              "      <td>Released</td>\n",
              "      <td>The Laws of Space and Time are About to be Vio...</td>\n",
              "      <td>Hot Tub Time Machine 2</td>\n",
              "      <td>[{'id': 4379, 'name': 'time travel'}, {'id': 9...</td>\n",
              "      <td>[{'cast_id': 4, 'character': 'Lou', 'credit_id...</td>\n",
              "      <td>[{'credit_id': '59ac067c92514107af02c8c8', 'de...</td>\n",
              "      <td>12314651</td>\n",
              "    </tr>\n",
              "    <tr>\n",
              "      <th>1</th>\n",
              "      <td>2</td>\n",
              "      <td>[{'id': 107674, 'name': 'The Princess Diaries ...</td>\n",
              "      <td>40000000</td>\n",
              "      <td>[{'id': 35, 'name': 'Comedy'}, {'id': 18, 'nam...</td>\n",
              "      <td>NaN</td>\n",
              "      <td>tt0368933</td>\n",
              "      <td>en</td>\n",
              "      <td>The Princess Diaries 2: Royal Engagement</td>\n",
              "      <td>Mia Thermopolis is now a college graduate and ...</td>\n",
              "      <td>8.248895</td>\n",
              "      <td>...</td>\n",
              "      <td>8/6/04</td>\n",
              "      <td>113.0</td>\n",
              "      <td>[{'iso_639_1': 'en', 'name': 'English'}]</td>\n",
              "      <td>Released</td>\n",
              "      <td>It can take a lifetime to find true love; she'...</td>\n",
              "      <td>The Princess Diaries 2: Royal Engagement</td>\n",
              "      <td>[{'id': 2505, 'name': 'coronation'}, {'id': 42...</td>\n",
              "      <td>[{'cast_id': 1, 'character': 'Mia Thermopolis'...</td>\n",
              "      <td>[{'credit_id': '52fe43fe9251416c7502563d', 'de...</td>\n",
              "      <td>95149435</td>\n",
              "    </tr>\n",
              "  </tbody>\n",
              "</table>\n",
              "<p>2 rows × 23 columns</p>\n",
              "</div>\n",
              "      <button class=\"colab-df-convert\" onclick=\"convertToInteractive('df-f527989e-0b80-4735-917f-e9458d20480a')\"\n",
              "              title=\"Convert this dataframe to an interactive table.\"\n",
              "              style=\"display:none;\">\n",
              "        \n",
              "  <svg xmlns=\"http://www.w3.org/2000/svg\" height=\"24px\"viewBox=\"0 0 24 24\"\n",
              "       width=\"24px\">\n",
              "    <path d=\"M0 0h24v24H0V0z\" fill=\"none\"/>\n",
              "    <path d=\"M18.56 5.44l.94 2.06.94-2.06 2.06-.94-2.06-.94-.94-2.06-.94 2.06-2.06.94zm-11 1L8.5 8.5l.94-2.06 2.06-.94-2.06-.94L8.5 2.5l-.94 2.06-2.06.94zm10 10l.94 2.06.94-2.06 2.06-.94-2.06-.94-.94-2.06-.94 2.06-2.06.94z\"/><path d=\"M17.41 7.96l-1.37-1.37c-.4-.4-.92-.59-1.43-.59-.52 0-1.04.2-1.43.59L10.3 9.45l-7.72 7.72c-.78.78-.78 2.05 0 2.83L4 21.41c.39.39.9.59 1.41.59.51 0 1.02-.2 1.41-.59l7.78-7.78 2.81-2.81c.8-.78.8-2.07 0-2.86zM5.41 20L4 18.59l7.72-7.72 1.47 1.35L5.41 20z\"/>\n",
              "  </svg>\n",
              "      </button>\n",
              "      \n",
              "  <style>\n",
              "    .colab-df-container {\n",
              "      display:flex;\n",
              "      flex-wrap:wrap;\n",
              "      gap: 12px;\n",
              "    }\n",
              "\n",
              "    .colab-df-convert {\n",
              "      background-color: #E8F0FE;\n",
              "      border: none;\n",
              "      border-radius: 50%;\n",
              "      cursor: pointer;\n",
              "      display: none;\n",
              "      fill: #1967D2;\n",
              "      height: 32px;\n",
              "      padding: 0 0 0 0;\n",
              "      width: 32px;\n",
              "    }\n",
              "\n",
              "    .colab-df-convert:hover {\n",
              "      background-color: #E2EBFA;\n",
              "      box-shadow: 0px 1px 2px rgba(60, 64, 67, 0.3), 0px 1px 3px 1px rgba(60, 64, 67, 0.15);\n",
              "      fill: #174EA6;\n",
              "    }\n",
              "\n",
              "    [theme=dark] .colab-df-convert {\n",
              "      background-color: #3B4455;\n",
              "      fill: #D2E3FC;\n",
              "    }\n",
              "\n",
              "    [theme=dark] .colab-df-convert:hover {\n",
              "      background-color: #434B5C;\n",
              "      box-shadow: 0px 1px 3px 1px rgba(0, 0, 0, 0.15);\n",
              "      filter: drop-shadow(0px 1px 2px rgba(0, 0, 0, 0.3));\n",
              "      fill: #FFFFFF;\n",
              "    }\n",
              "  </style>\n",
              "\n",
              "      <script>\n",
              "        const buttonEl =\n",
              "          document.querySelector('#df-f527989e-0b80-4735-917f-e9458d20480a button.colab-df-convert');\n",
              "        buttonEl.style.display =\n",
              "          google.colab.kernel.accessAllowed ? 'block' : 'none';\n",
              "\n",
              "        async function convertToInteractive(key) {\n",
              "          const element = document.querySelector('#df-f527989e-0b80-4735-917f-e9458d20480a');\n",
              "          const dataTable =\n",
              "            await google.colab.kernel.invokeFunction('convertToInteractive',\n",
              "                                                     [key], {});\n",
              "          if (!dataTable) return;\n",
              "\n",
              "          const docLinkHtml = 'Like what you see? Visit the ' +\n",
              "            '<a target=\"_blank\" href=https://colab.research.google.com/notebooks/data_table.ipynb>data table notebook</a>'\n",
              "            + ' to learn more about interactive tables.';\n",
              "          element.innerHTML = '';\n",
              "          dataTable['output_type'] = 'display_data';\n",
              "          await google.colab.output.renderOutput(dataTable, element);\n",
              "          const docLink = document.createElement('div');\n",
              "          docLink.innerHTML = docLinkHtml;\n",
              "          element.appendChild(docLink);\n",
              "        }\n",
              "      </script>\n",
              "    </div>\n",
              "  </div>\n",
              "  "
            ]
          },
          "metadata": {},
          "execution_count": 279
        }
      ]
    },
    {
      "cell_type": "code",
      "source": [
        "#lets go through data once check the outliers and values present in data \n",
        "new_imdb_df.describe()\n",
        "# we also found that these columns have numercial values\n",
        "# we also found that the budget columns has the missing values as its mean is 0 ( it couldnt be 0)"
      ],
      "metadata": {
        "colab": {
          "base_uri": "https://localhost:8080/",
          "height": 300
        },
        "id": "KvXN2O3WRPmQ",
        "outputId": "3dbd2dfa-235c-4acf-d514-e53f2ed44567"
      },
      "execution_count": 280,
      "outputs": [
        {
          "output_type": "execute_result",
          "data": {
            "text/plain": [
              "                id        budget   popularity      runtime       revenue\n",
              "count  3000.000000  3.000000e+03  3000.000000  2998.000000  3.000000e+03\n",
              "mean   1500.500000  2.253133e+07     8.463274   107.856571  6.672585e+07\n",
              "std     866.169729  3.702609e+07    12.104000    22.086434  1.375323e+08\n",
              "min       1.000000  0.000000e+00     0.000001     0.000000  1.000000e+00\n",
              "25%     750.750000  0.000000e+00     4.018053    94.000000  2.379808e+06\n",
              "50%    1500.500000  8.000000e+06     7.374861   104.000000  1.680707e+07\n",
              "75%    2250.250000  2.900000e+07    10.890983   118.000000  6.891920e+07\n",
              "max    3000.000000  3.800000e+08   294.337037   338.000000  1.519558e+09"
            ],
            "text/html": [
              "\n",
              "  <div id=\"df-7dd740ca-5168-4105-b432-5f224f8a3b8e\">\n",
              "    <div class=\"colab-df-container\">\n",
              "      <div>\n",
              "<style scoped>\n",
              "    .dataframe tbody tr th:only-of-type {\n",
              "        vertical-align: middle;\n",
              "    }\n",
              "\n",
              "    .dataframe tbody tr th {\n",
              "        vertical-align: top;\n",
              "    }\n",
              "\n",
              "    .dataframe thead th {\n",
              "        text-align: right;\n",
              "    }\n",
              "</style>\n",
              "<table border=\"1\" class=\"dataframe\">\n",
              "  <thead>\n",
              "    <tr style=\"text-align: right;\">\n",
              "      <th></th>\n",
              "      <th>id</th>\n",
              "      <th>budget</th>\n",
              "      <th>popularity</th>\n",
              "      <th>runtime</th>\n",
              "      <th>revenue</th>\n",
              "    </tr>\n",
              "  </thead>\n",
              "  <tbody>\n",
              "    <tr>\n",
              "      <th>count</th>\n",
              "      <td>3000.000000</td>\n",
              "      <td>3.000000e+03</td>\n",
              "      <td>3000.000000</td>\n",
              "      <td>2998.000000</td>\n",
              "      <td>3.000000e+03</td>\n",
              "    </tr>\n",
              "    <tr>\n",
              "      <th>mean</th>\n",
              "      <td>1500.500000</td>\n",
              "      <td>2.253133e+07</td>\n",
              "      <td>8.463274</td>\n",
              "      <td>107.856571</td>\n",
              "      <td>6.672585e+07</td>\n",
              "    </tr>\n",
              "    <tr>\n",
              "      <th>std</th>\n",
              "      <td>866.169729</td>\n",
              "      <td>3.702609e+07</td>\n",
              "      <td>12.104000</td>\n",
              "      <td>22.086434</td>\n",
              "      <td>1.375323e+08</td>\n",
              "    </tr>\n",
              "    <tr>\n",
              "      <th>min</th>\n",
              "      <td>1.000000</td>\n",
              "      <td>0.000000e+00</td>\n",
              "      <td>0.000001</td>\n",
              "      <td>0.000000</td>\n",
              "      <td>1.000000e+00</td>\n",
              "    </tr>\n",
              "    <tr>\n",
              "      <th>25%</th>\n",
              "      <td>750.750000</td>\n",
              "      <td>0.000000e+00</td>\n",
              "      <td>4.018053</td>\n",
              "      <td>94.000000</td>\n",
              "      <td>2.379808e+06</td>\n",
              "    </tr>\n",
              "    <tr>\n",
              "      <th>50%</th>\n",
              "      <td>1500.500000</td>\n",
              "      <td>8.000000e+06</td>\n",
              "      <td>7.374861</td>\n",
              "      <td>104.000000</td>\n",
              "      <td>1.680707e+07</td>\n",
              "    </tr>\n",
              "    <tr>\n",
              "      <th>75%</th>\n",
              "      <td>2250.250000</td>\n",
              "      <td>2.900000e+07</td>\n",
              "      <td>10.890983</td>\n",
              "      <td>118.000000</td>\n",
              "      <td>6.891920e+07</td>\n",
              "    </tr>\n",
              "    <tr>\n",
              "      <th>max</th>\n",
              "      <td>3000.000000</td>\n",
              "      <td>3.800000e+08</td>\n",
              "      <td>294.337037</td>\n",
              "      <td>338.000000</td>\n",
              "      <td>1.519558e+09</td>\n",
              "    </tr>\n",
              "  </tbody>\n",
              "</table>\n",
              "</div>\n",
              "      <button class=\"colab-df-convert\" onclick=\"convertToInteractive('df-7dd740ca-5168-4105-b432-5f224f8a3b8e')\"\n",
              "              title=\"Convert this dataframe to an interactive table.\"\n",
              "              style=\"display:none;\">\n",
              "        \n",
              "  <svg xmlns=\"http://www.w3.org/2000/svg\" height=\"24px\"viewBox=\"0 0 24 24\"\n",
              "       width=\"24px\">\n",
              "    <path d=\"M0 0h24v24H0V0z\" fill=\"none\"/>\n",
              "    <path d=\"M18.56 5.44l.94 2.06.94-2.06 2.06-.94-2.06-.94-.94-2.06-.94 2.06-2.06.94zm-11 1L8.5 8.5l.94-2.06 2.06-.94-2.06-.94L8.5 2.5l-.94 2.06-2.06.94zm10 10l.94 2.06.94-2.06 2.06-.94-2.06-.94-.94-2.06-.94 2.06-2.06.94z\"/><path d=\"M17.41 7.96l-1.37-1.37c-.4-.4-.92-.59-1.43-.59-.52 0-1.04.2-1.43.59L10.3 9.45l-7.72 7.72c-.78.78-.78 2.05 0 2.83L4 21.41c.39.39.9.59 1.41.59.51 0 1.02-.2 1.41-.59l7.78-7.78 2.81-2.81c.8-.78.8-2.07 0-2.86zM5.41 20L4 18.59l7.72-7.72 1.47 1.35L5.41 20z\"/>\n",
              "  </svg>\n",
              "      </button>\n",
              "      \n",
              "  <style>\n",
              "    .colab-df-container {\n",
              "      display:flex;\n",
              "      flex-wrap:wrap;\n",
              "      gap: 12px;\n",
              "    }\n",
              "\n",
              "    .colab-df-convert {\n",
              "      background-color: #E8F0FE;\n",
              "      border: none;\n",
              "      border-radius: 50%;\n",
              "      cursor: pointer;\n",
              "      display: none;\n",
              "      fill: #1967D2;\n",
              "      height: 32px;\n",
              "      padding: 0 0 0 0;\n",
              "      width: 32px;\n",
              "    }\n",
              "\n",
              "    .colab-df-convert:hover {\n",
              "      background-color: #E2EBFA;\n",
              "      box-shadow: 0px 1px 2px rgba(60, 64, 67, 0.3), 0px 1px 3px 1px rgba(60, 64, 67, 0.15);\n",
              "      fill: #174EA6;\n",
              "    }\n",
              "\n",
              "    [theme=dark] .colab-df-convert {\n",
              "      background-color: #3B4455;\n",
              "      fill: #D2E3FC;\n",
              "    }\n",
              "\n",
              "    [theme=dark] .colab-df-convert:hover {\n",
              "      background-color: #434B5C;\n",
              "      box-shadow: 0px 1px 3px 1px rgba(0, 0, 0, 0.15);\n",
              "      filter: drop-shadow(0px 1px 2px rgba(0, 0, 0, 0.3));\n",
              "      fill: #FFFFFF;\n",
              "    }\n",
              "  </style>\n",
              "\n",
              "      <script>\n",
              "        const buttonEl =\n",
              "          document.querySelector('#df-7dd740ca-5168-4105-b432-5f224f8a3b8e button.colab-df-convert');\n",
              "        buttonEl.style.display =\n",
              "          google.colab.kernel.accessAllowed ? 'block' : 'none';\n",
              "\n",
              "        async function convertToInteractive(key) {\n",
              "          const element = document.querySelector('#df-7dd740ca-5168-4105-b432-5f224f8a3b8e');\n",
              "          const dataTable =\n",
              "            await google.colab.kernel.invokeFunction('convertToInteractive',\n",
              "                                                     [key], {});\n",
              "          if (!dataTable) return;\n",
              "\n",
              "          const docLinkHtml = 'Like what you see? Visit the ' +\n",
              "            '<a target=\"_blank\" href=https://colab.research.google.com/notebooks/data_table.ipynb>data table notebook</a>'\n",
              "            + ' to learn more about interactive tables.';\n",
              "          element.innerHTML = '';\n",
              "          dataTable['output_type'] = 'display_data';\n",
              "          await google.colab.output.renderOutput(dataTable, element);\n",
              "          const docLink = document.createElement('div');\n",
              "          docLink.innerHTML = docLinkHtml;\n",
              "          element.appendChild(docLink);\n",
              "        }\n",
              "      </script>\n",
              "    </div>\n",
              "  </div>\n",
              "  "
            ]
          },
          "metadata": {},
          "execution_count": 280
        }
      ]
    },
    {
      "cell_type": "code",
      "source": [
        "# check the budget  columns having zero values \n",
        "new_imdb_df[new_imdb_df['budget']==0].head()"
      ],
      "metadata": {
        "colab": {
          "base_uri": "https://localhost:8080/",
          "height": 768
        },
        "id": "Z7-Ngcj1ZJyv",
        "outputId": "de781484-bc09-4bd2-cb27-211a69b84761"
      },
      "execution_count": 281,
      "outputs": [
        {
          "output_type": "execute_result",
          "data": {
            "text/plain": [
              "    id                              belongs_to_collection  budget  \\\n",
              "4    5                                                NaN       0   \n",
              "7    8                                                NaN       0   \n",
              "8    9  [{'id': 256377, 'name': 'The Muppet Collection...       0   \n",
              "11  12  [{'id': 48190, 'name': 'Revenge of the Nerds C...       0   \n",
              "17  18                                                NaN       0   \n",
              "\n",
              "                                               genres homepage    imdb_id  \\\n",
              "4   [{'id': 28, 'name': 'Action'}, {'id': 53, 'nam...      NaN  tt1380152   \n",
              "7                 [{'id': 99, 'name': 'Documentary'}]      NaN  tt0391024   \n",
              "8   [{'id': 28, 'name': 'Action'}, {'id': 35, 'nam...      NaN  tt0117110   \n",
              "11                     [{'id': 35, 'name': 'Comedy'}]      NaN  tt0093857   \n",
              "17  [{'id': 18, 'name': 'Drama'}, {'id': 10749, 'n...      NaN  tt1700845   \n",
              "\n",
              "   original_language                              original_title  \\\n",
              "4                 ko                                        마린보이   \n",
              "7                 en                                Control Room   \n",
              "8                 en                      Muppet Treasure Island   \n",
              "11                en  Revenge of the Nerds II: Nerds in Paradise   \n",
              "17                en                         The Invisible Woman   \n",
              "\n",
              "                                             overview  popularity  ...  \\\n",
              "4   Marine Boy is the story of a former national s...    1.148070  ...   \n",
              "7   A chronicle which provides a rare window into ...    1.949044  ...   \n",
              "8   After telling the story of Flint's last journe...    6.902423  ...   \n",
              "11  The members of the Lambda Lambda Lambda frater...   10.543750  ...   \n",
              "17  In 1857, at the height of his fame and fortune...    4.183558  ...   \n",
              "\n",
              "   release_date runtime                                   spoken_languages  \\\n",
              "4        2/5/09   118.0           [{'iso_639_1': 'ko', 'name': '한국어/조선말'}]   \n",
              "7       1/15/04    84.0  [{'iso_639_1': 'ar', 'name': 'العربية'}, {'iso...   \n",
              "8       2/16/96   100.0           [{'iso_639_1': 'en', 'name': 'English'}]   \n",
              "11      7/10/87    98.0           [{'iso_639_1': 'en', 'name': 'English'}]   \n",
              "17     12/25/13   111.0           [{'iso_639_1': 'en', 'name': 'English'}]   \n",
              "\n",
              "      status                                            tagline  \\\n",
              "4   Released                                                NaN   \n",
              "7   Released              Different channels. Different truths.   \n",
              "8   Released                        Set sail for Muppet mayhem!   \n",
              "11  Released                                      They're Back!   \n",
              "17  Released  His greatest story was the one he could never ...   \n",
              "\n",
              "                                         title  \\\n",
              "4                                   Marine Boy   \n",
              "7                                 Control Room   \n",
              "8                       Muppet Treasure Island   \n",
              "11  Revenge of the Nerds II: Nerds in Paradise   \n",
              "17                         The Invisible Woman   \n",
              "\n",
              "                                             Keywords  \\\n",
              "4                                                 NaN   \n",
              "7   [{'id': 917, 'name': 'journalism'}, {'id': 163...   \n",
              "8   [{'id': 2041, 'name': 'island'}, {'id': 4418, ...   \n",
              "11  [{'id': 5801, 'name': 'nerd'}, {'id': 6876, 'n...   \n",
              "17  [{'id': 5565, 'name': 'biography'}, {'id': 180...   \n",
              "\n",
              "                                                 cast  \\\n",
              "4   [{'cast_id': 3, 'character': 'Chun-soo', 'cred...   \n",
              "7   [{'cast_id': 2, 'character': 'Himself', 'credi...   \n",
              "8   [{'cast_id': 1, 'character': 'Long John Silver...   \n",
              "11  [{'cast_id': 2, 'character': 'Lewis Skolnick',...   \n",
              "17  [{'cast_id': 7, 'character': 'Charles Dickens'...   \n",
              "\n",
              "                                                 crew   revenue  \n",
              "4   [{'credit_id': '52fe464b9251416c75073b43', 'de...   3923970  \n",
              "7   [{'credit_id': '52fe47a69251416c750a0daf', 'de...   2586511  \n",
              "8   [{'credit_id': '52fe43c89251416c7501deb3', 'de...  34327391  \n",
              "11  [{'credit_id': '52fe46f49251416c750891e9', 'de...  22642033  \n",
              "17  [{'credit_id': '53b94a260e0a2676c7009b37', 'de...   1234254  \n",
              "\n",
              "[5 rows x 23 columns]"
            ],
            "text/html": [
              "\n",
              "  <div id=\"df-1c67e555-530b-4845-8c80-1d0b255f41df\">\n",
              "    <div class=\"colab-df-container\">\n",
              "      <div>\n",
              "<style scoped>\n",
              "    .dataframe tbody tr th:only-of-type {\n",
              "        vertical-align: middle;\n",
              "    }\n",
              "\n",
              "    .dataframe tbody tr th {\n",
              "        vertical-align: top;\n",
              "    }\n",
              "\n",
              "    .dataframe thead th {\n",
              "        text-align: right;\n",
              "    }\n",
              "</style>\n",
              "<table border=\"1\" class=\"dataframe\">\n",
              "  <thead>\n",
              "    <tr style=\"text-align: right;\">\n",
              "      <th></th>\n",
              "      <th>id</th>\n",
              "      <th>belongs_to_collection</th>\n",
              "      <th>budget</th>\n",
              "      <th>genres</th>\n",
              "      <th>homepage</th>\n",
              "      <th>imdb_id</th>\n",
              "      <th>original_language</th>\n",
              "      <th>original_title</th>\n",
              "      <th>overview</th>\n",
              "      <th>popularity</th>\n",
              "      <th>...</th>\n",
              "      <th>release_date</th>\n",
              "      <th>runtime</th>\n",
              "      <th>spoken_languages</th>\n",
              "      <th>status</th>\n",
              "      <th>tagline</th>\n",
              "      <th>title</th>\n",
              "      <th>Keywords</th>\n",
              "      <th>cast</th>\n",
              "      <th>crew</th>\n",
              "      <th>revenue</th>\n",
              "    </tr>\n",
              "  </thead>\n",
              "  <tbody>\n",
              "    <tr>\n",
              "      <th>4</th>\n",
              "      <td>5</td>\n",
              "      <td>NaN</td>\n",
              "      <td>0</td>\n",
              "      <td>[{'id': 28, 'name': 'Action'}, {'id': 53, 'nam...</td>\n",
              "      <td>NaN</td>\n",
              "      <td>tt1380152</td>\n",
              "      <td>ko</td>\n",
              "      <td>마린보이</td>\n",
              "      <td>Marine Boy is the story of a former national s...</td>\n",
              "      <td>1.148070</td>\n",
              "      <td>...</td>\n",
              "      <td>2/5/09</td>\n",
              "      <td>118.0</td>\n",
              "      <td>[{'iso_639_1': 'ko', 'name': '한국어/조선말'}]</td>\n",
              "      <td>Released</td>\n",
              "      <td>NaN</td>\n",
              "      <td>Marine Boy</td>\n",
              "      <td>NaN</td>\n",
              "      <td>[{'cast_id': 3, 'character': 'Chun-soo', 'cred...</td>\n",
              "      <td>[{'credit_id': '52fe464b9251416c75073b43', 'de...</td>\n",
              "      <td>3923970</td>\n",
              "    </tr>\n",
              "    <tr>\n",
              "      <th>7</th>\n",
              "      <td>8</td>\n",
              "      <td>NaN</td>\n",
              "      <td>0</td>\n",
              "      <td>[{'id': 99, 'name': 'Documentary'}]</td>\n",
              "      <td>NaN</td>\n",
              "      <td>tt0391024</td>\n",
              "      <td>en</td>\n",
              "      <td>Control Room</td>\n",
              "      <td>A chronicle which provides a rare window into ...</td>\n",
              "      <td>1.949044</td>\n",
              "      <td>...</td>\n",
              "      <td>1/15/04</td>\n",
              "      <td>84.0</td>\n",
              "      <td>[{'iso_639_1': 'ar', 'name': 'العربية'}, {'iso...</td>\n",
              "      <td>Released</td>\n",
              "      <td>Different channels. Different truths.</td>\n",
              "      <td>Control Room</td>\n",
              "      <td>[{'id': 917, 'name': 'journalism'}, {'id': 163...</td>\n",
              "      <td>[{'cast_id': 2, 'character': 'Himself', 'credi...</td>\n",
              "      <td>[{'credit_id': '52fe47a69251416c750a0daf', 'de...</td>\n",
              "      <td>2586511</td>\n",
              "    </tr>\n",
              "    <tr>\n",
              "      <th>8</th>\n",
              "      <td>9</td>\n",
              "      <td>[{'id': 256377, 'name': 'The Muppet Collection...</td>\n",
              "      <td>0</td>\n",
              "      <td>[{'id': 28, 'name': 'Action'}, {'id': 35, 'nam...</td>\n",
              "      <td>NaN</td>\n",
              "      <td>tt0117110</td>\n",
              "      <td>en</td>\n",
              "      <td>Muppet Treasure Island</td>\n",
              "      <td>After telling the story of Flint's last journe...</td>\n",
              "      <td>6.902423</td>\n",
              "      <td>...</td>\n",
              "      <td>2/16/96</td>\n",
              "      <td>100.0</td>\n",
              "      <td>[{'iso_639_1': 'en', 'name': 'English'}]</td>\n",
              "      <td>Released</td>\n",
              "      <td>Set sail for Muppet mayhem!</td>\n",
              "      <td>Muppet Treasure Island</td>\n",
              "      <td>[{'id': 2041, 'name': 'island'}, {'id': 4418, ...</td>\n",
              "      <td>[{'cast_id': 1, 'character': 'Long John Silver...</td>\n",
              "      <td>[{'credit_id': '52fe43c89251416c7501deb3', 'de...</td>\n",
              "      <td>34327391</td>\n",
              "    </tr>\n",
              "    <tr>\n",
              "      <th>11</th>\n",
              "      <td>12</td>\n",
              "      <td>[{'id': 48190, 'name': 'Revenge of the Nerds C...</td>\n",
              "      <td>0</td>\n",
              "      <td>[{'id': 35, 'name': 'Comedy'}]</td>\n",
              "      <td>NaN</td>\n",
              "      <td>tt0093857</td>\n",
              "      <td>en</td>\n",
              "      <td>Revenge of the Nerds II: Nerds in Paradise</td>\n",
              "      <td>The members of the Lambda Lambda Lambda frater...</td>\n",
              "      <td>10.543750</td>\n",
              "      <td>...</td>\n",
              "      <td>7/10/87</td>\n",
              "      <td>98.0</td>\n",
              "      <td>[{'iso_639_1': 'en', 'name': 'English'}]</td>\n",
              "      <td>Released</td>\n",
              "      <td>They're Back!</td>\n",
              "      <td>Revenge of the Nerds II: Nerds in Paradise</td>\n",
              "      <td>[{'id': 5801, 'name': 'nerd'}, {'id': 6876, 'n...</td>\n",
              "      <td>[{'cast_id': 2, 'character': 'Lewis Skolnick',...</td>\n",
              "      <td>[{'credit_id': '52fe46f49251416c750891e9', 'de...</td>\n",
              "      <td>22642033</td>\n",
              "    </tr>\n",
              "    <tr>\n",
              "      <th>17</th>\n",
              "      <td>18</td>\n",
              "      <td>NaN</td>\n",
              "      <td>0</td>\n",
              "      <td>[{'id': 18, 'name': 'Drama'}, {'id': 10749, 'n...</td>\n",
              "      <td>NaN</td>\n",
              "      <td>tt1700845</td>\n",
              "      <td>en</td>\n",
              "      <td>The Invisible Woman</td>\n",
              "      <td>In 1857, at the height of his fame and fortune...</td>\n",
              "      <td>4.183558</td>\n",
              "      <td>...</td>\n",
              "      <td>12/25/13</td>\n",
              "      <td>111.0</td>\n",
              "      <td>[{'iso_639_1': 'en', 'name': 'English'}]</td>\n",
              "      <td>Released</td>\n",
              "      <td>His greatest story was the one he could never ...</td>\n",
              "      <td>The Invisible Woman</td>\n",
              "      <td>[{'id': 5565, 'name': 'biography'}, {'id': 180...</td>\n",
              "      <td>[{'cast_id': 7, 'character': 'Charles Dickens'...</td>\n",
              "      <td>[{'credit_id': '53b94a260e0a2676c7009b37', 'de...</td>\n",
              "      <td>1234254</td>\n",
              "    </tr>\n",
              "  </tbody>\n",
              "</table>\n",
              "<p>5 rows × 23 columns</p>\n",
              "</div>\n",
              "      <button class=\"colab-df-convert\" onclick=\"convertToInteractive('df-1c67e555-530b-4845-8c80-1d0b255f41df')\"\n",
              "              title=\"Convert this dataframe to an interactive table.\"\n",
              "              style=\"display:none;\">\n",
              "        \n",
              "  <svg xmlns=\"http://www.w3.org/2000/svg\" height=\"24px\"viewBox=\"0 0 24 24\"\n",
              "       width=\"24px\">\n",
              "    <path d=\"M0 0h24v24H0V0z\" fill=\"none\"/>\n",
              "    <path d=\"M18.56 5.44l.94 2.06.94-2.06 2.06-.94-2.06-.94-.94-2.06-.94 2.06-2.06.94zm-11 1L8.5 8.5l.94-2.06 2.06-.94-2.06-.94L8.5 2.5l-.94 2.06-2.06.94zm10 10l.94 2.06.94-2.06 2.06-.94-2.06-.94-.94-2.06-.94 2.06-2.06.94z\"/><path d=\"M17.41 7.96l-1.37-1.37c-.4-.4-.92-.59-1.43-.59-.52 0-1.04.2-1.43.59L10.3 9.45l-7.72 7.72c-.78.78-.78 2.05 0 2.83L4 21.41c.39.39.9.59 1.41.59.51 0 1.02-.2 1.41-.59l7.78-7.78 2.81-2.81c.8-.78.8-2.07 0-2.86zM5.41 20L4 18.59l7.72-7.72 1.47 1.35L5.41 20z\"/>\n",
              "  </svg>\n",
              "      </button>\n",
              "      \n",
              "  <style>\n",
              "    .colab-df-container {\n",
              "      display:flex;\n",
              "      flex-wrap:wrap;\n",
              "      gap: 12px;\n",
              "    }\n",
              "\n",
              "    .colab-df-convert {\n",
              "      background-color: #E8F0FE;\n",
              "      border: none;\n",
              "      border-radius: 50%;\n",
              "      cursor: pointer;\n",
              "      display: none;\n",
              "      fill: #1967D2;\n",
              "      height: 32px;\n",
              "      padding: 0 0 0 0;\n",
              "      width: 32px;\n",
              "    }\n",
              "\n",
              "    .colab-df-convert:hover {\n",
              "      background-color: #E2EBFA;\n",
              "      box-shadow: 0px 1px 2px rgba(60, 64, 67, 0.3), 0px 1px 3px 1px rgba(60, 64, 67, 0.15);\n",
              "      fill: #174EA6;\n",
              "    }\n",
              "\n",
              "    [theme=dark] .colab-df-convert {\n",
              "      background-color: #3B4455;\n",
              "      fill: #D2E3FC;\n",
              "    }\n",
              "\n",
              "    [theme=dark] .colab-df-convert:hover {\n",
              "      background-color: #434B5C;\n",
              "      box-shadow: 0px 1px 3px 1px rgba(0, 0, 0, 0.15);\n",
              "      filter: drop-shadow(0px 1px 2px rgba(0, 0, 0, 0.3));\n",
              "      fill: #FFFFFF;\n",
              "    }\n",
              "  </style>\n",
              "\n",
              "      <script>\n",
              "        const buttonEl =\n",
              "          document.querySelector('#df-1c67e555-530b-4845-8c80-1d0b255f41df button.colab-df-convert');\n",
              "        buttonEl.style.display =\n",
              "          google.colab.kernel.accessAllowed ? 'block' : 'none';\n",
              "\n",
              "        async function convertToInteractive(key) {\n",
              "          const element = document.querySelector('#df-1c67e555-530b-4845-8c80-1d0b255f41df');\n",
              "          const dataTable =\n",
              "            await google.colab.kernel.invokeFunction('convertToInteractive',\n",
              "                                                     [key], {});\n",
              "          if (!dataTable) return;\n",
              "\n",
              "          const docLinkHtml = 'Like what you see? Visit the ' +\n",
              "            '<a target=\"_blank\" href=https://colab.research.google.com/notebooks/data_table.ipynb>data table notebook</a>'\n",
              "            + ' to learn more about interactive tables.';\n",
              "          element.innerHTML = '';\n",
              "          dataTable['output_type'] = 'display_data';\n",
              "          await google.colab.output.renderOutput(dataTable, element);\n",
              "          const docLink = document.createElement('div');\n",
              "          docLink.innerHTML = docLinkHtml;\n",
              "          element.appendChild(docLink);\n",
              "        }\n",
              "      </script>\n",
              "    </div>\n",
              "  </div>\n",
              "  "
            ]
          },
          "metadata": {},
          "execution_count": 281
        }
      ]
    },
    {
      "cell_type": "code",
      "source": [
        "new_imdb_df[new_imdb_df['budget']==0].shape"
      ],
      "metadata": {
        "colab": {
          "base_uri": "https://localhost:8080/"
        },
        "id": "E5IxacvDZJ8E",
        "outputId": "e960a17e-6b39-4b72-9868-07d585ccc71a"
      },
      "execution_count": 282,
      "outputs": [
        {
          "output_type": "execute_result",
          "data": {
            "text/plain": [
              "(812, 23)"
            ]
          },
          "metadata": {},
          "execution_count": 282
        }
      ]
    },
    {
      "cell_type": "code",
      "source": [
        "# There are 812 rows where the budget columns  has zero value"
      ],
      "metadata": {
        "id": "JmPwvOTlZKFo"
      },
      "execution_count": 283,
      "outputs": []
    },
    {
      "cell_type": "code",
      "source": [
        "# calculate the median of the budget columns \n",
        "new_imdb_df['budget'].median()"
      ],
      "metadata": {
        "colab": {
          "base_uri": "https://localhost:8080/"
        },
        "id": "uTbuIWzFZKQo",
        "outputId": "23b2168d-8237-4420-bb14-938bfd858829"
      },
      "execution_count": 284,
      "outputs": [
        {
          "output_type": "execute_result",
          "data": {
            "text/plain": [
              "8000000.0"
            ]
          },
          "metadata": {},
          "execution_count": 284
        }
      ]
    },
    {
      "cell_type": "code",
      "source": [
        "# we have to replace the values less than 1000 in budget and revenue columns with the median of that budget and revenue columns"
      ],
      "metadata": {
        "id": "TEKWW6tgZKbv"
      },
      "execution_count": 285,
      "outputs": []
    },
    {
      "cell_type": "code",
      "source": [
        "new_imdb_df.loc[new_imdb_df['budget']<1000,'budget']=new_imdb_df['budget'].median()\n"
      ],
      "metadata": {
        "id": "3NdNpqLLhI14"
      },
      "execution_count": 286,
      "outputs": []
    },
    {
      "cell_type": "code",
      "source": [
        "new_imdb_df.loc[new_imdb_df['revenue']<1000,'revenue']=new_imdb_df['revenue'].median()"
      ],
      "metadata": {
        "id": "1ZMSOrFuhJCB"
      },
      "execution_count": 287,
      "outputs": []
    },
    {
      "cell_type": "code",
      "source": [
        "new_imdb_df.describe()"
      ],
      "metadata": {
        "colab": {
          "base_uri": "https://localhost:8080/",
          "height": 300
        },
        "id": "Gynz4UvWhJNC",
        "outputId": "3b3de115-e322-4178-e252-2ee5329b3c33"
      },
      "execution_count": 289,
      "outputs": [
        {
          "output_type": "execute_result",
          "data": {
            "text/plain": [
              "                id        budget   popularity      runtime       revenue\n",
              "count  3000.000000  3.000000e+03  3000.000000  2998.000000  3.000000e+03\n",
              "mean   1500.500000  2.474467e+07     8.463274   107.856571  6.704518e+07\n",
              "std     866.169729  3.583254e+07    12.104000    22.086434  1.373964e+08\n",
              "min       1.000000  2.500000e+03     0.000001     0.000000  1.404000e+03\n",
              "25%     750.750000  8.000000e+06     4.018053    94.000000  2.947600e+06\n",
              "50%    1500.500000  8.000000e+06     7.374861   104.000000  1.680873e+07\n",
              "75%    2250.250000  2.900000e+07    10.890983   118.000000  6.891920e+07\n",
              "max    3000.000000  3.800000e+08   294.337037   338.000000  1.519558e+09"
            ],
            "text/html": [
              "\n",
              "  <div id=\"df-bde38486-3db7-4311-8623-0874cd469192\">\n",
              "    <div class=\"colab-df-container\">\n",
              "      <div>\n",
              "<style scoped>\n",
              "    .dataframe tbody tr th:only-of-type {\n",
              "        vertical-align: middle;\n",
              "    }\n",
              "\n",
              "    .dataframe tbody tr th {\n",
              "        vertical-align: top;\n",
              "    }\n",
              "\n",
              "    .dataframe thead th {\n",
              "        text-align: right;\n",
              "    }\n",
              "</style>\n",
              "<table border=\"1\" class=\"dataframe\">\n",
              "  <thead>\n",
              "    <tr style=\"text-align: right;\">\n",
              "      <th></th>\n",
              "      <th>id</th>\n",
              "      <th>budget</th>\n",
              "      <th>popularity</th>\n",
              "      <th>runtime</th>\n",
              "      <th>revenue</th>\n",
              "    </tr>\n",
              "  </thead>\n",
              "  <tbody>\n",
              "    <tr>\n",
              "      <th>count</th>\n",
              "      <td>3000.000000</td>\n",
              "      <td>3.000000e+03</td>\n",
              "      <td>3000.000000</td>\n",
              "      <td>2998.000000</td>\n",
              "      <td>3.000000e+03</td>\n",
              "    </tr>\n",
              "    <tr>\n",
              "      <th>mean</th>\n",
              "      <td>1500.500000</td>\n",
              "      <td>2.474467e+07</td>\n",
              "      <td>8.463274</td>\n",
              "      <td>107.856571</td>\n",
              "      <td>6.704518e+07</td>\n",
              "    </tr>\n",
              "    <tr>\n",
              "      <th>std</th>\n",
              "      <td>866.169729</td>\n",
              "      <td>3.583254e+07</td>\n",
              "      <td>12.104000</td>\n",
              "      <td>22.086434</td>\n",
              "      <td>1.373964e+08</td>\n",
              "    </tr>\n",
              "    <tr>\n",
              "      <th>min</th>\n",
              "      <td>1.000000</td>\n",
              "      <td>2.500000e+03</td>\n",
              "      <td>0.000001</td>\n",
              "      <td>0.000000</td>\n",
              "      <td>1.404000e+03</td>\n",
              "    </tr>\n",
              "    <tr>\n",
              "      <th>25%</th>\n",
              "      <td>750.750000</td>\n",
              "      <td>8.000000e+06</td>\n",
              "      <td>4.018053</td>\n",
              "      <td>94.000000</td>\n",
              "      <td>2.947600e+06</td>\n",
              "    </tr>\n",
              "    <tr>\n",
              "      <th>50%</th>\n",
              "      <td>1500.500000</td>\n",
              "      <td>8.000000e+06</td>\n",
              "      <td>7.374861</td>\n",
              "      <td>104.000000</td>\n",
              "      <td>1.680873e+07</td>\n",
              "    </tr>\n",
              "    <tr>\n",
              "      <th>75%</th>\n",
              "      <td>2250.250000</td>\n",
              "      <td>2.900000e+07</td>\n",
              "      <td>10.890983</td>\n",
              "      <td>118.000000</td>\n",
              "      <td>6.891920e+07</td>\n",
              "    </tr>\n",
              "    <tr>\n",
              "      <th>max</th>\n",
              "      <td>3000.000000</td>\n",
              "      <td>3.800000e+08</td>\n",
              "      <td>294.337037</td>\n",
              "      <td>338.000000</td>\n",
              "      <td>1.519558e+09</td>\n",
              "    </tr>\n",
              "  </tbody>\n",
              "</table>\n",
              "</div>\n",
              "      <button class=\"colab-df-convert\" onclick=\"convertToInteractive('df-bde38486-3db7-4311-8623-0874cd469192')\"\n",
              "              title=\"Convert this dataframe to an interactive table.\"\n",
              "              style=\"display:none;\">\n",
              "        \n",
              "  <svg xmlns=\"http://www.w3.org/2000/svg\" height=\"24px\"viewBox=\"0 0 24 24\"\n",
              "       width=\"24px\">\n",
              "    <path d=\"M0 0h24v24H0V0z\" fill=\"none\"/>\n",
              "    <path d=\"M18.56 5.44l.94 2.06.94-2.06 2.06-.94-2.06-.94-.94-2.06-.94 2.06-2.06.94zm-11 1L8.5 8.5l.94-2.06 2.06-.94-2.06-.94L8.5 2.5l-.94 2.06-2.06.94zm10 10l.94 2.06.94-2.06 2.06-.94-2.06-.94-.94-2.06-.94 2.06-2.06.94z\"/><path d=\"M17.41 7.96l-1.37-1.37c-.4-.4-.92-.59-1.43-.59-.52 0-1.04.2-1.43.59L10.3 9.45l-7.72 7.72c-.78.78-.78 2.05 0 2.83L4 21.41c.39.39.9.59 1.41.59.51 0 1.02-.2 1.41-.59l7.78-7.78 2.81-2.81c.8-.78.8-2.07 0-2.86zM5.41 20L4 18.59l7.72-7.72 1.47 1.35L5.41 20z\"/>\n",
              "  </svg>\n",
              "      </button>\n",
              "      \n",
              "  <style>\n",
              "    .colab-df-container {\n",
              "      display:flex;\n",
              "      flex-wrap:wrap;\n",
              "      gap: 12px;\n",
              "    }\n",
              "\n",
              "    .colab-df-convert {\n",
              "      background-color: #E8F0FE;\n",
              "      border: none;\n",
              "      border-radius: 50%;\n",
              "      cursor: pointer;\n",
              "      display: none;\n",
              "      fill: #1967D2;\n",
              "      height: 32px;\n",
              "      padding: 0 0 0 0;\n",
              "      width: 32px;\n",
              "    }\n",
              "\n",
              "    .colab-df-convert:hover {\n",
              "      background-color: #E2EBFA;\n",
              "      box-shadow: 0px 1px 2px rgba(60, 64, 67, 0.3), 0px 1px 3px 1px rgba(60, 64, 67, 0.15);\n",
              "      fill: #174EA6;\n",
              "    }\n",
              "\n",
              "    [theme=dark] .colab-df-convert {\n",
              "      background-color: #3B4455;\n",
              "      fill: #D2E3FC;\n",
              "    }\n",
              "\n",
              "    [theme=dark] .colab-df-convert:hover {\n",
              "      background-color: #434B5C;\n",
              "      box-shadow: 0px 1px 3px 1px rgba(0, 0, 0, 0.15);\n",
              "      filter: drop-shadow(0px 1px 2px rgba(0, 0, 0, 0.3));\n",
              "      fill: #FFFFFF;\n",
              "    }\n",
              "  </style>\n",
              "\n",
              "      <script>\n",
              "        const buttonEl =\n",
              "          document.querySelector('#df-bde38486-3db7-4311-8623-0874cd469192 button.colab-df-convert');\n",
              "        buttonEl.style.display =\n",
              "          google.colab.kernel.accessAllowed ? 'block' : 'none';\n",
              "\n",
              "        async function convertToInteractive(key) {\n",
              "          const element = document.querySelector('#df-bde38486-3db7-4311-8623-0874cd469192');\n",
              "          const dataTable =\n",
              "            await google.colab.kernel.invokeFunction('convertToInteractive',\n",
              "                                                     [key], {});\n",
              "          if (!dataTable) return;\n",
              "\n",
              "          const docLinkHtml = 'Like what you see? Visit the ' +\n",
              "            '<a target=\"_blank\" href=https://colab.research.google.com/notebooks/data_table.ipynb>data table notebook</a>'\n",
              "            + ' to learn more about interactive tables.';\n",
              "          element.innerHTML = '';\n",
              "          dataTable['output_type'] = 'display_data';\n",
              "          await google.colab.output.renderOutput(dataTable, element);\n",
              "          const docLink = document.createElement('div');\n",
              "          docLink.innerHTML = docLinkHtml;\n",
              "          element.appendChild(docLink);\n",
              "        }\n",
              "      </script>\n",
              "    </div>\n",
              "  </div>\n",
              "  "
            ]
          },
          "metadata": {},
          "execution_count": 289
        }
      ]
    },
    {
      "cell_type": "code",
      "source": [
        "# checking is there any null values in genres columns\n",
        "new_imdb_df['genres'].isnull().sum()"
      ],
      "metadata": {
        "colab": {
          "base_uri": "https://localhost:8080/"
        },
        "id": "HvoAeA6KhJYe",
        "outputId": "04bc5615-dd8b-4495-ba92-2ada8ad12981"
      },
      "execution_count": 288,
      "outputs": [
        {
          "output_type": "execute_result",
          "data": {
            "text/plain": [
              "7"
            ]
          },
          "metadata": {},
          "execution_count": 288
        }
      ]
    },
    {
      "cell_type": "code",
      "source": [
        "# Creating the new columns profits and roi columns in the dataframe\n",
        "new_imdb_df['profits']=new_imdb_df.revenue-new_imdb_df.budget\n",
        "new_imdb_df['roi']=100*(new_imdb_df.profits/new_imdb_df.budget)"
      ],
      "metadata": {
        "id": "1SSa8Acyjsv7"
      },
      "execution_count": 290,
      "outputs": []
    },
    {
      "cell_type": "code",
      "source": [
        "new_imdb_df.head(3)"
      ],
      "metadata": {
        "colab": {
          "base_uri": "https://localhost:8080/",
          "height": 497
        },
        "id": "vK-lkU7fjtu4",
        "outputId": "6353822c-8aed-46f8-8309-18f7f3b654cf"
      },
      "execution_count": 291,
      "outputs": [
        {
          "output_type": "execute_result",
          "data": {
            "text/plain": [
              "   id                              belongs_to_collection    budget  \\\n",
              "0   1  [{'id': 313576, 'name': 'Hot Tub Time Machine ...  14000000   \n",
              "1   2  [{'id': 107674, 'name': 'The Princess Diaries ...  40000000   \n",
              "2   3                                                NaN   3300000   \n",
              "\n",
              "                                              genres  \\\n",
              "0                     [{'id': 35, 'name': 'Comedy'}]   \n",
              "1  [{'id': 35, 'name': 'Comedy'}, {'id': 18, 'nam...   \n",
              "2                      [{'id': 18, 'name': 'Drama'}]   \n",
              "\n",
              "                            homepage    imdb_id original_language  \\\n",
              "0                                NaN  tt2637294                en   \n",
              "1                                NaN  tt0368933                en   \n",
              "2  http://sonyclassics.com/whiplash/  tt2582802                en   \n",
              "\n",
              "                             original_title  \\\n",
              "0                    Hot Tub Time Machine 2   \n",
              "1  The Princess Diaries 2: Royal Engagement   \n",
              "2                                  Whiplash   \n",
              "\n",
              "                                            overview  popularity  ...  \\\n",
              "0  When Lou, who has become the \"father of the In...    6.575393  ...   \n",
              "1  Mia Thermopolis is now a college graduate and ...    8.248895  ...   \n",
              "2  Under the direction of a ruthless instructor, ...   64.299990  ...   \n",
              "\n",
              "                           spoken_languages    status  \\\n",
              "0  [{'iso_639_1': 'en', 'name': 'English'}]  Released   \n",
              "1  [{'iso_639_1': 'en', 'name': 'English'}]  Released   \n",
              "2  [{'iso_639_1': 'en', 'name': 'English'}]  Released   \n",
              "\n",
              "                                             tagline  \\\n",
              "0  The Laws of Space and Time are About to be Vio...   \n",
              "1  It can take a lifetime to find true love; she'...   \n",
              "2    The road to greatness can take you to the edge.   \n",
              "\n",
              "                                      title  \\\n",
              "0                    Hot Tub Time Machine 2   \n",
              "1  The Princess Diaries 2: Royal Engagement   \n",
              "2                                  Whiplash   \n",
              "\n",
              "                                            Keywords  \\\n",
              "0  [{'id': 4379, 'name': 'time travel'}, {'id': 9...   \n",
              "1  [{'id': 2505, 'name': 'coronation'}, {'id': 42...   \n",
              "2  [{'id': 1416, 'name': 'jazz'}, {'id': 1523, 'n...   \n",
              "\n",
              "                                                cast  \\\n",
              "0  [{'cast_id': 4, 'character': 'Lou', 'credit_id...   \n",
              "1  [{'cast_id': 1, 'character': 'Mia Thermopolis'...   \n",
              "2  [{'cast_id': 5, 'character': 'Andrew Neimann',...   \n",
              "\n",
              "                                                crew   revenue   profits  \\\n",
              "0  [{'credit_id': '59ac067c92514107af02c8c8', 'de...  12314651  -1685349   \n",
              "1  [{'credit_id': '52fe43fe9251416c7502563d', 'de...  95149435  55149435   \n",
              "2  [{'credit_id': '54d5356ec3a3683ba0000039', 'de...  13092000   9792000   \n",
              "\n",
              "          roi  \n",
              "0  -12.038207  \n",
              "1  137.873588  \n",
              "2  296.727273  \n",
              "\n",
              "[3 rows x 25 columns]"
            ],
            "text/html": [
              "\n",
              "  <div id=\"df-0f17e3bd-4c7b-4a80-bc25-e4b0f766b886\">\n",
              "    <div class=\"colab-df-container\">\n",
              "      <div>\n",
              "<style scoped>\n",
              "    .dataframe tbody tr th:only-of-type {\n",
              "        vertical-align: middle;\n",
              "    }\n",
              "\n",
              "    .dataframe tbody tr th {\n",
              "        vertical-align: top;\n",
              "    }\n",
              "\n",
              "    .dataframe thead th {\n",
              "        text-align: right;\n",
              "    }\n",
              "</style>\n",
              "<table border=\"1\" class=\"dataframe\">\n",
              "  <thead>\n",
              "    <tr style=\"text-align: right;\">\n",
              "      <th></th>\n",
              "      <th>id</th>\n",
              "      <th>belongs_to_collection</th>\n",
              "      <th>budget</th>\n",
              "      <th>genres</th>\n",
              "      <th>homepage</th>\n",
              "      <th>imdb_id</th>\n",
              "      <th>original_language</th>\n",
              "      <th>original_title</th>\n",
              "      <th>overview</th>\n",
              "      <th>popularity</th>\n",
              "      <th>...</th>\n",
              "      <th>spoken_languages</th>\n",
              "      <th>status</th>\n",
              "      <th>tagline</th>\n",
              "      <th>title</th>\n",
              "      <th>Keywords</th>\n",
              "      <th>cast</th>\n",
              "      <th>crew</th>\n",
              "      <th>revenue</th>\n",
              "      <th>profits</th>\n",
              "      <th>roi</th>\n",
              "    </tr>\n",
              "  </thead>\n",
              "  <tbody>\n",
              "    <tr>\n",
              "      <th>0</th>\n",
              "      <td>1</td>\n",
              "      <td>[{'id': 313576, 'name': 'Hot Tub Time Machine ...</td>\n",
              "      <td>14000000</td>\n",
              "      <td>[{'id': 35, 'name': 'Comedy'}]</td>\n",
              "      <td>NaN</td>\n",
              "      <td>tt2637294</td>\n",
              "      <td>en</td>\n",
              "      <td>Hot Tub Time Machine 2</td>\n",
              "      <td>When Lou, who has become the \"father of the In...</td>\n",
              "      <td>6.575393</td>\n",
              "      <td>...</td>\n",
              "      <td>[{'iso_639_1': 'en', 'name': 'English'}]</td>\n",
              "      <td>Released</td>\n",
              "      <td>The Laws of Space and Time are About to be Vio...</td>\n",
              "      <td>Hot Tub Time Machine 2</td>\n",
              "      <td>[{'id': 4379, 'name': 'time travel'}, {'id': 9...</td>\n",
              "      <td>[{'cast_id': 4, 'character': 'Lou', 'credit_id...</td>\n",
              "      <td>[{'credit_id': '59ac067c92514107af02c8c8', 'de...</td>\n",
              "      <td>12314651</td>\n",
              "      <td>-1685349</td>\n",
              "      <td>-12.038207</td>\n",
              "    </tr>\n",
              "    <tr>\n",
              "      <th>1</th>\n",
              "      <td>2</td>\n",
              "      <td>[{'id': 107674, 'name': 'The Princess Diaries ...</td>\n",
              "      <td>40000000</td>\n",
              "      <td>[{'id': 35, 'name': 'Comedy'}, {'id': 18, 'nam...</td>\n",
              "      <td>NaN</td>\n",
              "      <td>tt0368933</td>\n",
              "      <td>en</td>\n",
              "      <td>The Princess Diaries 2: Royal Engagement</td>\n",
              "      <td>Mia Thermopolis is now a college graduate and ...</td>\n",
              "      <td>8.248895</td>\n",
              "      <td>...</td>\n",
              "      <td>[{'iso_639_1': 'en', 'name': 'English'}]</td>\n",
              "      <td>Released</td>\n",
              "      <td>It can take a lifetime to find true love; she'...</td>\n",
              "      <td>The Princess Diaries 2: Royal Engagement</td>\n",
              "      <td>[{'id': 2505, 'name': 'coronation'}, {'id': 42...</td>\n",
              "      <td>[{'cast_id': 1, 'character': 'Mia Thermopolis'...</td>\n",
              "      <td>[{'credit_id': '52fe43fe9251416c7502563d', 'de...</td>\n",
              "      <td>95149435</td>\n",
              "      <td>55149435</td>\n",
              "      <td>137.873588</td>\n",
              "    </tr>\n",
              "    <tr>\n",
              "      <th>2</th>\n",
              "      <td>3</td>\n",
              "      <td>NaN</td>\n",
              "      <td>3300000</td>\n",
              "      <td>[{'id': 18, 'name': 'Drama'}]</td>\n",
              "      <td>http://sonyclassics.com/whiplash/</td>\n",
              "      <td>tt2582802</td>\n",
              "      <td>en</td>\n",
              "      <td>Whiplash</td>\n",
              "      <td>Under the direction of a ruthless instructor, ...</td>\n",
              "      <td>64.299990</td>\n",
              "      <td>...</td>\n",
              "      <td>[{'iso_639_1': 'en', 'name': 'English'}]</td>\n",
              "      <td>Released</td>\n",
              "      <td>The road to greatness can take you to the edge.</td>\n",
              "      <td>Whiplash</td>\n",
              "      <td>[{'id': 1416, 'name': 'jazz'}, {'id': 1523, 'n...</td>\n",
              "      <td>[{'cast_id': 5, 'character': 'Andrew Neimann',...</td>\n",
              "      <td>[{'credit_id': '54d5356ec3a3683ba0000039', 'de...</td>\n",
              "      <td>13092000</td>\n",
              "      <td>9792000</td>\n",
              "      <td>296.727273</td>\n",
              "    </tr>\n",
              "  </tbody>\n",
              "</table>\n",
              "<p>3 rows × 25 columns</p>\n",
              "</div>\n",
              "      <button class=\"colab-df-convert\" onclick=\"convertToInteractive('df-0f17e3bd-4c7b-4a80-bc25-e4b0f766b886')\"\n",
              "              title=\"Convert this dataframe to an interactive table.\"\n",
              "              style=\"display:none;\">\n",
              "        \n",
              "  <svg xmlns=\"http://www.w3.org/2000/svg\" height=\"24px\"viewBox=\"0 0 24 24\"\n",
              "       width=\"24px\">\n",
              "    <path d=\"M0 0h24v24H0V0z\" fill=\"none\"/>\n",
              "    <path d=\"M18.56 5.44l.94 2.06.94-2.06 2.06-.94-2.06-.94-.94-2.06-.94 2.06-2.06.94zm-11 1L8.5 8.5l.94-2.06 2.06-.94-2.06-.94L8.5 2.5l-.94 2.06-2.06.94zm10 10l.94 2.06.94-2.06 2.06-.94-2.06-.94-.94-2.06-.94 2.06-2.06.94z\"/><path d=\"M17.41 7.96l-1.37-1.37c-.4-.4-.92-.59-1.43-.59-.52 0-1.04.2-1.43.59L10.3 9.45l-7.72 7.72c-.78.78-.78 2.05 0 2.83L4 21.41c.39.39.9.59 1.41.59.51 0 1.02-.2 1.41-.59l7.78-7.78 2.81-2.81c.8-.78.8-2.07 0-2.86zM5.41 20L4 18.59l7.72-7.72 1.47 1.35L5.41 20z\"/>\n",
              "  </svg>\n",
              "      </button>\n",
              "      \n",
              "  <style>\n",
              "    .colab-df-container {\n",
              "      display:flex;\n",
              "      flex-wrap:wrap;\n",
              "      gap: 12px;\n",
              "    }\n",
              "\n",
              "    .colab-df-convert {\n",
              "      background-color: #E8F0FE;\n",
              "      border: none;\n",
              "      border-radius: 50%;\n",
              "      cursor: pointer;\n",
              "      display: none;\n",
              "      fill: #1967D2;\n",
              "      height: 32px;\n",
              "      padding: 0 0 0 0;\n",
              "      width: 32px;\n",
              "    }\n",
              "\n",
              "    .colab-df-convert:hover {\n",
              "      background-color: #E2EBFA;\n",
              "      box-shadow: 0px 1px 2px rgba(60, 64, 67, 0.3), 0px 1px 3px 1px rgba(60, 64, 67, 0.15);\n",
              "      fill: #174EA6;\n",
              "    }\n",
              "\n",
              "    [theme=dark] .colab-df-convert {\n",
              "      background-color: #3B4455;\n",
              "      fill: #D2E3FC;\n",
              "    }\n",
              "\n",
              "    [theme=dark] .colab-df-convert:hover {\n",
              "      background-color: #434B5C;\n",
              "      box-shadow: 0px 1px 3px 1px rgba(0, 0, 0, 0.15);\n",
              "      filter: drop-shadow(0px 1px 2px rgba(0, 0, 0, 0.3));\n",
              "      fill: #FFFFFF;\n",
              "    }\n",
              "  </style>\n",
              "\n",
              "      <script>\n",
              "        const buttonEl =\n",
              "          document.querySelector('#df-0f17e3bd-4c7b-4a80-bc25-e4b0f766b886 button.colab-df-convert');\n",
              "        buttonEl.style.display =\n",
              "          google.colab.kernel.accessAllowed ? 'block' : 'none';\n",
              "\n",
              "        async function convertToInteractive(key) {\n",
              "          const element = document.querySelector('#df-0f17e3bd-4c7b-4a80-bc25-e4b0f766b886');\n",
              "          const dataTable =\n",
              "            await google.colab.kernel.invokeFunction('convertToInteractive',\n",
              "                                                     [key], {});\n",
              "          if (!dataTable) return;\n",
              "\n",
              "          const docLinkHtml = 'Like what you see? Visit the ' +\n",
              "            '<a target=\"_blank\" href=https://colab.research.google.com/notebooks/data_table.ipynb>data table notebook</a>'\n",
              "            + ' to learn more about interactive tables.';\n",
              "          element.innerHTML = '';\n",
              "          dataTable['output_type'] = 'display_data';\n",
              "          await google.colab.output.renderOutput(dataTable, element);\n",
              "          const docLink = document.createElement('div');\n",
              "          docLink.innerHTML = docLinkHtml;\n",
              "          element.appendChild(docLink);\n",
              "        }\n",
              "      </script>\n",
              "    </div>\n",
              "  </div>\n",
              "  "
            ]
          },
          "metadata": {},
          "execution_count": 291
        }
      ]
    },
    {
      "cell_type": "markdown",
      "source": [
        "# ***Which movie made the highest profit? Who were its producer and director? Identify the actors in that film.***"
      ],
      "metadata": {
        "id": "VAW70T1clwTn"
      }
    },
    {
      "cell_type": "code",
      "source": [
        "new_imdb_df['profits'].max()"
      ],
      "metadata": {
        "colab": {
          "base_uri": "https://localhost:8080/"
        },
        "id": "Z0VgSlA7juD1",
        "outputId": "271c034d-7bc2-444b-da1a-aef7753cf745"
      },
      "execution_count": 292,
      "outputs": [
        {
          "output_type": "execute_result",
          "data": {
            "text/plain": [
              "1316249360"
            ]
          },
          "metadata": {},
          "execution_count": 292
        }
      ]
    },
    {
      "cell_type": "code",
      "source": [
        "new_imdb_df['profits'].idxmax()"
      ],
      "metadata": {
        "colab": {
          "base_uri": "https://localhost:8080/"
        },
        "id": "XS1bbtrfjuO-",
        "outputId": "162cae7a-e468-4019-da87-e25f40d5cec6"
      },
      "execution_count": 293,
      "outputs": [
        {
          "output_type": "execute_result",
          "data": {
            "text/plain": [
              "1761"
            ]
          },
          "metadata": {},
          "execution_count": 293
        }
      ]
    },
    {
      "cell_type": "markdown",
      "source": [
        "**Most profitable movie**"
      ],
      "metadata": {
        "id": "sx8TTSLIqmz1"
      }
    },
    {
      "cell_type": "code",
      "source": [
        "# the movie which made the highest profits in the data\n",
        "new_imdb_df.iloc[1761]['title']"
      ],
      "metadata": {
        "colab": {
          "base_uri": "https://localhost:8080/",
          "height": 35
        },
        "id": "Y2TF33l8juZ7",
        "outputId": "f3a4f9f7-ba75-48c4-a115-52c17ce03517"
      },
      "execution_count": 294,
      "outputs": [
        {
          "output_type": "execute_result",
          "data": {
            "text/plain": [
              "'Furious 7'"
            ],
            "application/vnd.google.colaboratory.intrinsic+json": {
              "type": "string"
            }
          },
          "metadata": {},
          "execution_count": 294
        }
      ]
    },
    {
      "cell_type": "code",
      "source": [
        "#making the new dataframe of the profitable movie\n",
        "movie_data=new_imdb_df.iloc[new_imdb_df['profits'].idxmax()]\n",
        "movie_data.head(10)"
      ],
      "metadata": {
        "colab": {
          "base_uri": "https://localhost:8080/"
        },
        "id": "pNfKy2ZUjukk",
        "outputId": "e8fc5386-4e51-4395-dd8b-e1386272dfcb"
      },
      "execution_count": 295,
      "outputs": [
        {
          "output_type": "execute_result",
          "data": {
            "text/plain": [
              "id                                                                    1762\n",
              "belongs_to_collection    [{'id': 9485, 'name': 'The Fast and the Furiou...\n",
              "budget                                                           190000000\n",
              "genres                                      [{'id': 28, 'name': 'Action'}]\n",
              "homepage                                          http://www.furious7.com/\n",
              "imdb_id                                                          tt2820852\n",
              "original_language                                                       en\n",
              "original_title                                                   Furious 7\n",
              "overview                 Deckard Shaw seeks revenge against Dominic Tor...\n",
              "popularity                                                       27.275687\n",
              "Name: 1761, dtype: object"
            ]
          },
          "metadata": {},
          "execution_count": 295
        }
      ]
    },
    {
      "cell_type": "code",
      "source": [
        "# Name of the actor worked in movie\n",
        "movie_data.loc['cast'][0]['name']"
      ],
      "metadata": {
        "colab": {
          "base_uri": "https://localhost:8080/",
          "height": 35
        },
        "id": "nMMW-xPDjuwX",
        "outputId": "22b52dfb-e221-4fc2-c314-ab27546817cc"
      },
      "execution_count": 296,
      "outputs": [
        {
          "output_type": "execute_result",
          "data": {
            "text/plain": [
              "'Vin Diesel'"
            ],
            "application/vnd.google.colaboratory.intrinsic+json": {
              "type": "string"
            }
          },
          "metadata": {},
          "execution_count": 296
        }
      ]
    },
    {
      "cell_type": "code",
      "source": [
        "\n",
        "movie_data.loc['crew'][0]"
      ],
      "metadata": {
        "colab": {
          "base_uri": "https://localhost:8080/"
        },
        "id": "C4xbG3asju6p",
        "outputId": "d37b7234-fe0c-40dc-bc6a-a6e07d0e1ae9"
      },
      "execution_count": 297,
      "outputs": [
        {
          "output_type": "execute_result",
          "data": {
            "text/plain": [
              "{'credit_id': '52fe4cc8c3a36847f823e681',\n",
              " 'department': 'Production',\n",
              " 'gender': 2,\n",
              " 'id': 12835,\n",
              " 'job': 'Producer',\n",
              " 'name': 'Vin Diesel',\n",
              " 'profile_path': '/7rwSXluNWZAluYMOEWBxkPmckES.jpg'}"
            ]
          },
          "metadata": {},
          "execution_count": 297
        }
      ]
    },
    {
      "cell_type": "code",
      "source": [],
      "metadata": {
        "id": "j50ido1HqhcG"
      },
      "execution_count": 297,
      "outputs": []
    },
    {
      "cell_type": "code",
      "source": [
        "crew_data=movie_data.loc['crew']\n",
        "crew_data[0:3]"
      ],
      "metadata": {
        "colab": {
          "base_uri": "https://localhost:8080/"
        },
        "id": "hkKnTqWHjvGe",
        "outputId": "ea4be2ee-7d6a-4e20-edca-57e13939aa0b"
      },
      "execution_count": 298,
      "outputs": [
        {
          "output_type": "execute_result",
          "data": {
            "text/plain": [
              "[{'credit_id': '52fe4cc8c3a36847f823e681',\n",
              "  'department': 'Production',\n",
              "  'gender': 2,\n",
              "  'id': 12835,\n",
              "  'job': 'Producer',\n",
              "  'name': 'Vin Diesel',\n",
              "  'profile_path': '/7rwSXluNWZAluYMOEWBxkPmckES.jpg'},\n",
              " {'credit_id': '52fe4cc8c3a36847f823e687',\n",
              "  'department': 'Production',\n",
              "  'gender': 2,\n",
              "  'id': 11874,\n",
              "  'job': 'Producer',\n",
              "  'name': 'Neal H. Moritz',\n",
              "  'profile_path': '/cNcsEYmoS4niCz3UkVAA09dUIob.jpg'},\n",
              " {'credit_id': '52fe4cc8c3a36847f823e68d',\n",
              "  'department': 'Writing',\n",
              "  'gender': 2,\n",
              "  'id': 58191,\n",
              "  'job': 'Writer',\n",
              "  'name': 'Chris Morgan',\n",
              "  'profile_path': '/dUGxIwFBLrSFLImxjeda1krndMO.jpg'}]"
            ]
          },
          "metadata": {},
          "execution_count": 298
        }
      ]
    },
    {
      "cell_type": "markdown",
      "source": [
        "## Name of Producer and director of the most profitable movie : "
      ],
      "metadata": {
        "id": "ts8cu8JOqRir"
      }
    },
    {
      "cell_type": "code",
      "source": [
        "producer_list=[]\n",
        "director_list=[]\n",
        "for elem in crew_data:\n",
        "  if elem['job']=='Producer':\n",
        "    producer_list.append(elem['name'])\n",
        "  if elem ['job']=='Director':\n",
        "    director_list.append(elem['name'])\n",
        "\n"
      ],
      "metadata": {
        "id": "muS5hZx0p-uJ"
      },
      "execution_count": 299,
      "outputs": []
    },
    {
      "cell_type": "code",
      "source": [
        "print(f'PRODUCERS:{producer_list}')\n",
        "print(f'DIRECTOR:{director_list}')"
      ],
      "metadata": {
        "colab": {
          "base_uri": "https://localhost:8080/"
        },
        "id": "BwaRqXl2p-4A",
        "outputId": "ba49b4fc-00c8-42f7-d832-687cf29ff600"
      },
      "execution_count": 300,
      "outputs": [
        {
          "output_type": "stream",
          "name": "stdout",
          "text": [
            "PRODUCERS:['Vin Diesel', 'Neal H. Moritz', 'Michael Fottrell', 'Brandon Birtell']\n",
            "DIRECTOR:['James Wan']\n"
          ]
        }
      ]
    },
    {
      "cell_type": "code",
      "source": [
        "cast_data=movie_data['cast']"
      ],
      "metadata": {
        "id": "H3UizVR-p_E1"
      },
      "execution_count": 301,
      "outputs": []
    },
    {
      "cell_type": "code",
      "source": [
        "cast_data[0:3]"
      ],
      "metadata": {
        "colab": {
          "base_uri": "https://localhost:8080/"
        },
        "id": "fbDRr-2Sp_PO",
        "outputId": "8f6c8ea6-f1b1-4d0c-c74e-88580940ccd4"
      },
      "execution_count": 302,
      "outputs": [
        {
          "output_type": "execute_result",
          "data": {
            "text/plain": [
              "[{'cast_id': 17,\n",
              "  'character': 'Dominic Toretto',\n",
              "  'credit_id': '5431dfd10e0a265915002c34',\n",
              "  'gender': 2,\n",
              "  'id': 12835,\n",
              "  'name': 'Vin Diesel',\n",
              "  'order': 0,\n",
              "  'profile_path': '/7rwSXluNWZAluYMOEWBxkPmckES.jpg'},\n",
              " {'cast_id': 19,\n",
              "  'character': \"Brian O'Conner\",\n",
              "  'credit_id': '5431dfe4c3a3681143002b98',\n",
              "  'gender': 2,\n",
              "  'id': 8167,\n",
              "  'name': 'Paul Walker',\n",
              "  'order': 1,\n",
              "  'profile_path': '/iqvYezRoEY5k8wnlfHriHQfl5dX.jpg'},\n",
              " {'cast_id': 18,\n",
              "  'character': 'Hobbs',\n",
              "  'credit_id': '5431dfdbc3a36831a6004376',\n",
              "  'gender': 2,\n",
              "  'id': 18918,\n",
              "  'name': 'Dwayne Johnson',\n",
              "  'order': 2,\n",
              "  'profile_path': '/kuqFzlYMc2IrsOyPznMd1FroeGq.jpg'}]"
            ]
          },
          "metadata": {},
          "execution_count": 302
        }
      ]
    },
    {
      "cell_type": "code",
      "source": [
        "actor_list=[]\n",
        "for elem in cast_data:\n",
        "  actor_list.append(elem['name'])"
      ],
      "metadata": {
        "id": "Vih3KQiGp_a_"
      },
      "execution_count": 303,
      "outputs": []
    },
    {
      "cell_type": "markdown",
      "source": [
        "**Actors in the most profitable movie are as below:**"
      ],
      "metadata": {
        "id": "dAwpazYEvIBN"
      }
    },
    {
      "cell_type": "code",
      "source": [
        "actor_list"
      ],
      "metadata": {
        "colab": {
          "base_uri": "https://localhost:8080/"
        },
        "id": "DinSgXHzp_lU",
        "outputId": "a0b46979-d2ee-4143-fe42-62426605adba"
      },
      "execution_count": 304,
      "outputs": [
        {
          "output_type": "execute_result",
          "data": {
            "text/plain": [
              "['Vin Diesel',\n",
              " 'Paul Walker',\n",
              " 'Dwayne Johnson',\n",
              " 'Michelle Rodriguez',\n",
              " 'Tyrese Gibson',\n",
              " 'Ludacris',\n",
              " 'Jordana Brewster',\n",
              " 'Djimon Hounsou',\n",
              " 'Tony Jaa',\n",
              " 'Ronda Rousey',\n",
              " 'Nathalie Emmanuel',\n",
              " 'Kurt Russell',\n",
              " 'Jason Statham',\n",
              " 'Sung Kang',\n",
              " 'Gal Gadot',\n",
              " 'Lucas Black',\n",
              " 'Elsa Pataky',\n",
              " 'Noel Gugliemi',\n",
              " 'John Brotherton',\n",
              " 'Luke Evans',\n",
              " 'Ali Fazal',\n",
              " 'Miller Kimsey',\n",
              " 'Charlie Kimsey',\n",
              " 'Eden Estrella',\n",
              " 'Gentry White',\n",
              " 'Iggy Azalea',\n",
              " 'Jon Lee Brody',\n",
              " 'Levy Tran',\n",
              " 'Anna Colwell',\n",
              " 'Viktor Hernandez',\n",
              " 'Steve Coulter',\n",
              " 'Robert Pralgo',\n",
              " 'Antwan Mills',\n",
              " 'J.J. Phillips',\n",
              " 'Jorge Ferragut',\n",
              " 'Sara Sohn',\n",
              " 'Benjamin Blankenship',\n",
              " 'D.J. Hapa',\n",
              " 'T-Pain',\n",
              " 'Brian Mahoney',\n",
              " 'Brittney Alger',\n",
              " 'Romeo Santos',\n",
              " 'Jocelin Donahue',\n",
              " 'Stephanie Langston',\n",
              " 'Jorge-Luis Pallo',\n",
              " 'Tego Calder√≥n',\n",
              " 'Nathalie Kelley',\n",
              " 'Shad Moss',\n",
              " 'Don Omar',\n",
              " 'Klement Tinaj',\n",
              " 'Caleb Walker',\n",
              " 'Cody Walker']"
            ]
          },
          "metadata": {},
          "execution_count": 304
        }
      ]
    },
    {
      "cell_type": "code",
      "source": [],
      "metadata": {
        "id": "fi6NslUqp_vb"
      },
      "execution_count": 306,
      "outputs": []
    },
    {
      "cell_type": "markdown",
      "source": [
        "## **This data has information about movies made in different languages. Which language has the highest average ROI (return on investment)?**"
      ],
      "metadata": {
        "id": "vXjuSgFWwLue"
      }
    },
    {
      "cell_type": "code",
      "source": [
        "# we will use the groupby function in data\n",
        "lan_roi_df=new_imdb_df.groupby('original_language')['roi'].mean()\n",
        "lan_roi_df"
      ],
      "metadata": {
        "colab": {
          "base_uri": "https://localhost:8080/"
        },
        "id": "3XEIvoYVwR7g",
        "outputId": "e2852d57-e316-4a59-e80a-8cb91b75dece"
      },
      "execution_count": 305,
      "outputs": [
        {
          "output_type": "execute_result",
          "data": {
            "text/plain": [
              "original_language\n",
              "ar      -83.153162\n",
              "bn      -93.295450\n",
              "cn      166.759165\n",
              "cs      -99.782587\n",
              "da       33.304880\n",
              "de      550.245452\n",
              "el     5198.013245\n",
              "en      952.119148\n",
              "es      118.109730\n",
              "fa        6.652315\n",
              "fi      -30.319235\n",
              "fr       69.262325\n",
              "he      456.292450\n",
              "hi      259.276753\n",
              "hu      -95.338432\n",
              "id      -41.617578\n",
              "it       49.786722\n",
              "ja      210.947188\n",
              "ko    11309.685605\n",
              "ml      370.833333\n",
              "mr      193.333333\n",
              "nb       18.847943\n",
              "nl      -14.765526\n",
              "no       24.275581\n",
              "pl      395.816987\n",
              "pt      -28.630313\n",
              "ro      -62.148935\n",
              "ru      118.962426\n",
              "sr     3261.413600\n",
              "sv      100.995440\n",
              "ta      181.596547\n",
              "te      440.076812\n",
              "tr      878.917604\n",
              "ur      350.673773\n",
              "vi      -50.846154\n",
              "zh      344.576391\n",
              "Name: roi, dtype: float64"
            ]
          },
          "metadata": {},
          "execution_count": 305
        }
      ]
    },
    {
      "cell_type": "code",
      "source": [
        "high_roi_lan=lan_roi_df.reset_index().sort_values(by='roi',ascending=False).head(5)\n"
      ],
      "metadata": {
        "id": "AuVtQY6xxgya"
      },
      "execution_count": 306,
      "outputs": []
    },
    {
      "cell_type": "code",
      "source": [
        "print(f'The language which has the highest roi in the data is \"{high_roi_lan.iloc[0,0]}\"')"
      ],
      "metadata": {
        "colab": {
          "base_uri": "https://localhost:8080/"
        },
        "id": "jZ-EwP55xhDP",
        "outputId": "8fd09860-1d43-4cf6-dd78-208ebdcf76c4"
      },
      "execution_count": 307,
      "outputs": [
        {
          "output_type": "stream",
          "name": "stdout",
          "text": [
            "The language which has the highest roi in the data is \"ko\"\n"
          ]
        }
      ]
    },
    {
      "cell_type": "code",
      "source": [],
      "metadata": {
        "id": "ATT6ZMpgxhNJ"
      },
      "execution_count": null,
      "outputs": []
    },
    {
      "cell_type": "markdown",
      "source": [
        "# **3.Find out the unique genres of movies in this dataset.**"
      ],
      "metadata": {
        "id": "8Q8hOJe4zEvp"
      }
    },
    {
      "cell_type": "code",
      "source": [
        "#creating the genres dataframe \n",
        "non_null_genres_df=new_imdb_df.loc[~new_imdb_df['genres'].isna()]\n",
        "non_null_genres_df.head()"
      ],
      "metadata": {
        "colab": {
          "base_uri": "https://localhost:8080/",
          "height": 716
        },
        "id": "-NCrZcZfxhW1",
        "outputId": "ed953d31-3197-4aad-9bea-5f9515ffdebd"
      },
      "execution_count": 308,
      "outputs": [
        {
          "output_type": "execute_result",
          "data": {
            "text/plain": [
              "   id                              belongs_to_collection    budget  \\\n",
              "0   1  [{'id': 313576, 'name': 'Hot Tub Time Machine ...  14000000   \n",
              "1   2  [{'id': 107674, 'name': 'The Princess Diaries ...  40000000   \n",
              "2   3                                                NaN   3300000   \n",
              "3   4                                                NaN   1200000   \n",
              "4   5                                                NaN   8000000   \n",
              "\n",
              "                                              genres  \\\n",
              "0                     [{'id': 35, 'name': 'Comedy'}]   \n",
              "1  [{'id': 35, 'name': 'Comedy'}, {'id': 18, 'nam...   \n",
              "2                      [{'id': 18, 'name': 'Drama'}]   \n",
              "3  [{'id': 53, 'name': 'Thriller'}, {'id': 18, 'n...   \n",
              "4  [{'id': 28, 'name': 'Action'}, {'id': 53, 'nam...   \n",
              "\n",
              "                            homepage    imdb_id original_language  \\\n",
              "0                                NaN  tt2637294                en   \n",
              "1                                NaN  tt0368933                en   \n",
              "2  http://sonyclassics.com/whiplash/  tt2582802                en   \n",
              "3         http://kahaanithefilm.com/  tt1821480                hi   \n",
              "4                                NaN  tt1380152                ko   \n",
              "\n",
              "                             original_title  \\\n",
              "0                    Hot Tub Time Machine 2   \n",
              "1  The Princess Diaries 2: Royal Engagement   \n",
              "2                                  Whiplash   \n",
              "3                                   Kahaani   \n",
              "4                                      마린보이   \n",
              "\n",
              "                                            overview  popularity  ...  \\\n",
              "0  When Lou, who has become the \"father of the In...    6.575393  ...   \n",
              "1  Mia Thermopolis is now a college graduate and ...    8.248895  ...   \n",
              "2  Under the direction of a ruthless instructor, ...   64.299990  ...   \n",
              "3  Vidya Bagchi (Vidya Balan) arrives in Kolkata ...    3.174936  ...   \n",
              "4  Marine Boy is the story of a former national s...    1.148070  ...   \n",
              "\n",
              "                                    spoken_languages    status  \\\n",
              "0           [{'iso_639_1': 'en', 'name': 'English'}]  Released   \n",
              "1           [{'iso_639_1': 'en', 'name': 'English'}]  Released   \n",
              "2           [{'iso_639_1': 'en', 'name': 'English'}]  Released   \n",
              "3  [{'iso_639_1': 'en', 'name': 'English'}, {'iso...  Released   \n",
              "4           [{'iso_639_1': 'ko', 'name': '한국어/조선말'}]  Released   \n",
              "\n",
              "                                             tagline  \\\n",
              "0  The Laws of Space and Time are About to be Vio...   \n",
              "1  It can take a lifetime to find true love; she'...   \n",
              "2    The road to greatness can take you to the edge.   \n",
              "3                                                NaN   \n",
              "4                                                NaN   \n",
              "\n",
              "                                      title  \\\n",
              "0                    Hot Tub Time Machine 2   \n",
              "1  The Princess Diaries 2: Royal Engagement   \n",
              "2                                  Whiplash   \n",
              "3                                   Kahaani   \n",
              "4                                Marine Boy   \n",
              "\n",
              "                                            Keywords  \\\n",
              "0  [{'id': 4379, 'name': 'time travel'}, {'id': 9...   \n",
              "1  [{'id': 2505, 'name': 'coronation'}, {'id': 42...   \n",
              "2  [{'id': 1416, 'name': 'jazz'}, {'id': 1523, 'n...   \n",
              "3  [{'id': 10092, 'name': 'mystery'}, {'id': 1054...   \n",
              "4                                                NaN   \n",
              "\n",
              "                                                cast  \\\n",
              "0  [{'cast_id': 4, 'character': 'Lou', 'credit_id...   \n",
              "1  [{'cast_id': 1, 'character': 'Mia Thermopolis'...   \n",
              "2  [{'cast_id': 5, 'character': 'Andrew Neimann',...   \n",
              "3  [{'cast_id': 1, 'character': 'Vidya Bagchi', '...   \n",
              "4  [{'cast_id': 3, 'character': 'Chun-soo', 'cred...   \n",
              "\n",
              "                                                crew   revenue   profits  \\\n",
              "0  [{'credit_id': '59ac067c92514107af02c8c8', 'de...  12314651  -1685349   \n",
              "1  [{'credit_id': '52fe43fe9251416c7502563d', 'de...  95149435  55149435   \n",
              "2  [{'credit_id': '54d5356ec3a3683ba0000039', 'de...  13092000   9792000   \n",
              "3  [{'credit_id': '52fe48779251416c9108d6eb', 'de...  16000000  14800000   \n",
              "4  [{'credit_id': '52fe464b9251416c75073b43', 'de...   3923970  -4076030   \n",
              "\n",
              "           roi  \n",
              "0   -12.038207  \n",
              "1   137.873588  \n",
              "2   296.727273  \n",
              "3  1233.333333  \n",
              "4   -50.950375  \n",
              "\n",
              "[5 rows x 25 columns]"
            ],
            "text/html": [
              "\n",
              "  <div id=\"df-4cbb3d8f-feb1-49e8-81de-c4ca0262f018\">\n",
              "    <div class=\"colab-df-container\">\n",
              "      <div>\n",
              "<style scoped>\n",
              "    .dataframe tbody tr th:only-of-type {\n",
              "        vertical-align: middle;\n",
              "    }\n",
              "\n",
              "    .dataframe tbody tr th {\n",
              "        vertical-align: top;\n",
              "    }\n",
              "\n",
              "    .dataframe thead th {\n",
              "        text-align: right;\n",
              "    }\n",
              "</style>\n",
              "<table border=\"1\" class=\"dataframe\">\n",
              "  <thead>\n",
              "    <tr style=\"text-align: right;\">\n",
              "      <th></th>\n",
              "      <th>id</th>\n",
              "      <th>belongs_to_collection</th>\n",
              "      <th>budget</th>\n",
              "      <th>genres</th>\n",
              "      <th>homepage</th>\n",
              "      <th>imdb_id</th>\n",
              "      <th>original_language</th>\n",
              "      <th>original_title</th>\n",
              "      <th>overview</th>\n",
              "      <th>popularity</th>\n",
              "      <th>...</th>\n",
              "      <th>spoken_languages</th>\n",
              "      <th>status</th>\n",
              "      <th>tagline</th>\n",
              "      <th>title</th>\n",
              "      <th>Keywords</th>\n",
              "      <th>cast</th>\n",
              "      <th>crew</th>\n",
              "      <th>revenue</th>\n",
              "      <th>profits</th>\n",
              "      <th>roi</th>\n",
              "    </tr>\n",
              "  </thead>\n",
              "  <tbody>\n",
              "    <tr>\n",
              "      <th>0</th>\n",
              "      <td>1</td>\n",
              "      <td>[{'id': 313576, 'name': 'Hot Tub Time Machine ...</td>\n",
              "      <td>14000000</td>\n",
              "      <td>[{'id': 35, 'name': 'Comedy'}]</td>\n",
              "      <td>NaN</td>\n",
              "      <td>tt2637294</td>\n",
              "      <td>en</td>\n",
              "      <td>Hot Tub Time Machine 2</td>\n",
              "      <td>When Lou, who has become the \"father of the In...</td>\n",
              "      <td>6.575393</td>\n",
              "      <td>...</td>\n",
              "      <td>[{'iso_639_1': 'en', 'name': 'English'}]</td>\n",
              "      <td>Released</td>\n",
              "      <td>The Laws of Space and Time are About to be Vio...</td>\n",
              "      <td>Hot Tub Time Machine 2</td>\n",
              "      <td>[{'id': 4379, 'name': 'time travel'}, {'id': 9...</td>\n",
              "      <td>[{'cast_id': 4, 'character': 'Lou', 'credit_id...</td>\n",
              "      <td>[{'credit_id': '59ac067c92514107af02c8c8', 'de...</td>\n",
              "      <td>12314651</td>\n",
              "      <td>-1685349</td>\n",
              "      <td>-12.038207</td>\n",
              "    </tr>\n",
              "    <tr>\n",
              "      <th>1</th>\n",
              "      <td>2</td>\n",
              "      <td>[{'id': 107674, 'name': 'The Princess Diaries ...</td>\n",
              "      <td>40000000</td>\n",
              "      <td>[{'id': 35, 'name': 'Comedy'}, {'id': 18, 'nam...</td>\n",
              "      <td>NaN</td>\n",
              "      <td>tt0368933</td>\n",
              "      <td>en</td>\n",
              "      <td>The Princess Diaries 2: Royal Engagement</td>\n",
              "      <td>Mia Thermopolis is now a college graduate and ...</td>\n",
              "      <td>8.248895</td>\n",
              "      <td>...</td>\n",
              "      <td>[{'iso_639_1': 'en', 'name': 'English'}]</td>\n",
              "      <td>Released</td>\n",
              "      <td>It can take a lifetime to find true love; she'...</td>\n",
              "      <td>The Princess Diaries 2: Royal Engagement</td>\n",
              "      <td>[{'id': 2505, 'name': 'coronation'}, {'id': 42...</td>\n",
              "      <td>[{'cast_id': 1, 'character': 'Mia Thermopolis'...</td>\n",
              "      <td>[{'credit_id': '52fe43fe9251416c7502563d', 'de...</td>\n",
              "      <td>95149435</td>\n",
              "      <td>55149435</td>\n",
              "      <td>137.873588</td>\n",
              "    </tr>\n",
              "    <tr>\n",
              "      <th>2</th>\n",
              "      <td>3</td>\n",
              "      <td>NaN</td>\n",
              "      <td>3300000</td>\n",
              "      <td>[{'id': 18, 'name': 'Drama'}]</td>\n",
              "      <td>http://sonyclassics.com/whiplash/</td>\n",
              "      <td>tt2582802</td>\n",
              "      <td>en</td>\n",
              "      <td>Whiplash</td>\n",
              "      <td>Under the direction of a ruthless instructor, ...</td>\n",
              "      <td>64.299990</td>\n",
              "      <td>...</td>\n",
              "      <td>[{'iso_639_1': 'en', 'name': 'English'}]</td>\n",
              "      <td>Released</td>\n",
              "      <td>The road to greatness can take you to the edge.</td>\n",
              "      <td>Whiplash</td>\n",
              "      <td>[{'id': 1416, 'name': 'jazz'}, {'id': 1523, 'n...</td>\n",
              "      <td>[{'cast_id': 5, 'character': 'Andrew Neimann',...</td>\n",
              "      <td>[{'credit_id': '54d5356ec3a3683ba0000039', 'de...</td>\n",
              "      <td>13092000</td>\n",
              "      <td>9792000</td>\n",
              "      <td>296.727273</td>\n",
              "    </tr>\n",
              "    <tr>\n",
              "      <th>3</th>\n",
              "      <td>4</td>\n",
              "      <td>NaN</td>\n",
              "      <td>1200000</td>\n",
              "      <td>[{'id': 53, 'name': 'Thriller'}, {'id': 18, 'n...</td>\n",
              "      <td>http://kahaanithefilm.com/</td>\n",
              "      <td>tt1821480</td>\n",
              "      <td>hi</td>\n",
              "      <td>Kahaani</td>\n",
              "      <td>Vidya Bagchi (Vidya Balan) arrives in Kolkata ...</td>\n",
              "      <td>3.174936</td>\n",
              "      <td>...</td>\n",
              "      <td>[{'iso_639_1': 'en', 'name': 'English'}, {'iso...</td>\n",
              "      <td>Released</td>\n",
              "      <td>NaN</td>\n",
              "      <td>Kahaani</td>\n",
              "      <td>[{'id': 10092, 'name': 'mystery'}, {'id': 1054...</td>\n",
              "      <td>[{'cast_id': 1, 'character': 'Vidya Bagchi', '...</td>\n",
              "      <td>[{'credit_id': '52fe48779251416c9108d6eb', 'de...</td>\n",
              "      <td>16000000</td>\n",
              "      <td>14800000</td>\n",
              "      <td>1233.333333</td>\n",
              "    </tr>\n",
              "    <tr>\n",
              "      <th>4</th>\n",
              "      <td>5</td>\n",
              "      <td>NaN</td>\n",
              "      <td>8000000</td>\n",
              "      <td>[{'id': 28, 'name': 'Action'}, {'id': 53, 'nam...</td>\n",
              "      <td>NaN</td>\n",
              "      <td>tt1380152</td>\n",
              "      <td>ko</td>\n",
              "      <td>마린보이</td>\n",
              "      <td>Marine Boy is the story of a former national s...</td>\n",
              "      <td>1.148070</td>\n",
              "      <td>...</td>\n",
              "      <td>[{'iso_639_1': 'ko', 'name': '한국어/조선말'}]</td>\n",
              "      <td>Released</td>\n",
              "      <td>NaN</td>\n",
              "      <td>Marine Boy</td>\n",
              "      <td>NaN</td>\n",
              "      <td>[{'cast_id': 3, 'character': 'Chun-soo', 'cred...</td>\n",
              "      <td>[{'credit_id': '52fe464b9251416c75073b43', 'de...</td>\n",
              "      <td>3923970</td>\n",
              "      <td>-4076030</td>\n",
              "      <td>-50.950375</td>\n",
              "    </tr>\n",
              "  </tbody>\n",
              "</table>\n",
              "<p>5 rows × 25 columns</p>\n",
              "</div>\n",
              "      <button class=\"colab-df-convert\" onclick=\"convertToInteractive('df-4cbb3d8f-feb1-49e8-81de-c4ca0262f018')\"\n",
              "              title=\"Convert this dataframe to an interactive table.\"\n",
              "              style=\"display:none;\">\n",
              "        \n",
              "  <svg xmlns=\"http://www.w3.org/2000/svg\" height=\"24px\"viewBox=\"0 0 24 24\"\n",
              "       width=\"24px\">\n",
              "    <path d=\"M0 0h24v24H0V0z\" fill=\"none\"/>\n",
              "    <path d=\"M18.56 5.44l.94 2.06.94-2.06 2.06-.94-2.06-.94-.94-2.06-.94 2.06-2.06.94zm-11 1L8.5 8.5l.94-2.06 2.06-.94-2.06-.94L8.5 2.5l-.94 2.06-2.06.94zm10 10l.94 2.06.94-2.06 2.06-.94-2.06-.94-.94-2.06-.94 2.06-2.06.94z\"/><path d=\"M17.41 7.96l-1.37-1.37c-.4-.4-.92-.59-1.43-.59-.52 0-1.04.2-1.43.59L10.3 9.45l-7.72 7.72c-.78.78-.78 2.05 0 2.83L4 21.41c.39.39.9.59 1.41.59.51 0 1.02-.2 1.41-.59l7.78-7.78 2.81-2.81c.8-.78.8-2.07 0-2.86zM5.41 20L4 18.59l7.72-7.72 1.47 1.35L5.41 20z\"/>\n",
              "  </svg>\n",
              "      </button>\n",
              "      \n",
              "  <style>\n",
              "    .colab-df-container {\n",
              "      display:flex;\n",
              "      flex-wrap:wrap;\n",
              "      gap: 12px;\n",
              "    }\n",
              "\n",
              "    .colab-df-convert {\n",
              "      background-color: #E8F0FE;\n",
              "      border: none;\n",
              "      border-radius: 50%;\n",
              "      cursor: pointer;\n",
              "      display: none;\n",
              "      fill: #1967D2;\n",
              "      height: 32px;\n",
              "      padding: 0 0 0 0;\n",
              "      width: 32px;\n",
              "    }\n",
              "\n",
              "    .colab-df-convert:hover {\n",
              "      background-color: #E2EBFA;\n",
              "      box-shadow: 0px 1px 2px rgba(60, 64, 67, 0.3), 0px 1px 3px 1px rgba(60, 64, 67, 0.15);\n",
              "      fill: #174EA6;\n",
              "    }\n",
              "\n",
              "    [theme=dark] .colab-df-convert {\n",
              "      background-color: #3B4455;\n",
              "      fill: #D2E3FC;\n",
              "    }\n",
              "\n",
              "    [theme=dark] .colab-df-convert:hover {\n",
              "      background-color: #434B5C;\n",
              "      box-shadow: 0px 1px 3px 1px rgba(0, 0, 0, 0.15);\n",
              "      filter: drop-shadow(0px 1px 2px rgba(0, 0, 0, 0.3));\n",
              "      fill: #FFFFFF;\n",
              "    }\n",
              "  </style>\n",
              "\n",
              "      <script>\n",
              "        const buttonEl =\n",
              "          document.querySelector('#df-4cbb3d8f-feb1-49e8-81de-c4ca0262f018 button.colab-df-convert');\n",
              "        buttonEl.style.display =\n",
              "          google.colab.kernel.accessAllowed ? 'block' : 'none';\n",
              "\n",
              "        async function convertToInteractive(key) {\n",
              "          const element = document.querySelector('#df-4cbb3d8f-feb1-49e8-81de-c4ca0262f018');\n",
              "          const dataTable =\n",
              "            await google.colab.kernel.invokeFunction('convertToInteractive',\n",
              "                                                     [key], {});\n",
              "          if (!dataTable) return;\n",
              "\n",
              "          const docLinkHtml = 'Like what you see? Visit the ' +\n",
              "            '<a target=\"_blank\" href=https://colab.research.google.com/notebooks/data_table.ipynb>data table notebook</a>'\n",
              "            + ' to learn more about interactive tables.';\n",
              "          element.innerHTML = '';\n",
              "          dataTable['output_type'] = 'display_data';\n",
              "          await google.colab.output.renderOutput(dataTable, element);\n",
              "          const docLink = document.createElement('div');\n",
              "          docLink.innerHTML = docLinkHtml;\n",
              "          element.appendChild(docLink);\n",
              "        }\n",
              "      </script>\n",
              "    </div>\n",
              "  </div>\n",
              "  "
            ]
          },
          "metadata": {},
          "execution_count": 308
        }
      ]
    },
    {
      "cell_type": "code",
      "source": [
        "non_null_genres_df.loc[3,'genres']"
      ],
      "metadata": {
        "colab": {
          "base_uri": "https://localhost:8080/"
        },
        "id": "0wUT_lDCzfER",
        "outputId": "14532687-bc09-4cf2-a53c-1539aa9f0e94"
      },
      "execution_count": 312,
      "outputs": [
        {
          "output_type": "execute_result",
          "data": {
            "text/plain": [
              "[{'id': 53, 'name': 'Thriller'}, {'id': 18, 'name': 'Drama'}]"
            ]
          },
          "metadata": {},
          "execution_count": 312
        }
      ]
    },
    {
      "cell_type": "code",
      "source": [
        "non_null_genres_df.loc[0,'genres']"
      ],
      "metadata": {
        "colab": {
          "base_uri": "https://localhost:8080/"
        },
        "id": "hPC_hRbx4Ibl",
        "outputId": "ea0faa6a-5ba5-4c6a-cb60-d66d81882f57"
      },
      "execution_count": 310,
      "outputs": [
        {
          "output_type": "execute_result",
          "data": {
            "text/plain": [
              "[{'id': 35, 'name': 'Comedy'}]"
            ]
          },
          "metadata": {},
          "execution_count": 310
        }
      ]
    },
    {
      "cell_type": "code",
      "source": [
        "non_null_genres_df.loc[1,'genres']"
      ],
      "metadata": {
        "colab": {
          "base_uri": "https://localhost:8080/"
        },
        "id": "TJ5KqXVg4Imd",
        "outputId": "87521b92-0a47-4bfc-fef2-3d9d775adbfa"
      },
      "execution_count": 311,
      "outputs": [
        {
          "output_type": "execute_result",
          "data": {
            "text/plain": [
              "[{'id': 35, 'name': 'Comedy'},\n",
              " {'id': 18, 'name': 'Drama'},\n",
              " {'id': 10751, 'name': 'Family'},\n",
              " {'id': 10749, 'name': 'Romance'}]"
            ]
          },
          "metadata": {},
          "execution_count": 311
        }
      ]
    },
    {
      "cell_type": "code",
      "source": [],
      "metadata": {
        "id": "sLRNMRjK2QXn"
      },
      "execution_count": 312,
      "outputs": []
    },
    {
      "cell_type": "code",
      "source": [
        "# create a list of genres .iterrows() method to iterate over genres columnns\n",
        "# .iterrows is same as the >>> enumerate() its compulsory to use in case of DataFrame\n",
        "genres_list=[]\n",
        "for index ,row in non_null_genres_df.iterrows():\n",
        "  genres=non_null_genres_df.loc[index,'genres']\n",
        "  for k in genres:\n",
        "    genres_list.append(k['name'])\n"
      ],
      "metadata": {
        "id": "RZ9xAG_2zfM6"
      },
      "execution_count": 313,
      "outputs": []
    },
    {
      "cell_type": "code",
      "source": [
        "print(genres)"
      ],
      "metadata": {
        "colab": {
          "base_uri": "https://localhost:8080/"
        },
        "id": "v0sWrXnkHFTb",
        "outputId": "4f2ef178-7b60-4fbc-9dee-0a8277d82be5"
      },
      "execution_count": 314,
      "outputs": [
        {
          "output_type": "stream",
          "name": "stdout",
          "text": [
            "[{'id': 53, 'name': 'Thriller'}, {'id': 28, 'name': 'Action'}, {'id': 9648, 'name': 'Mystery'}]\n"
          ]
        }
      ]
    },
    {
      "cell_type": "code",
      "source": [
        "pd.DataFrame(set(genres_list),columns=['unique_genres'])"
      ],
      "metadata": {
        "colab": {
          "base_uri": "https://localhost:8080/",
          "height": 677
        },
        "id": "kv7qehBhzfV6",
        "outputId": "8e14aef1-bafd-4fff-cf6e-94dbfecb977d"
      },
      "execution_count": 315,
      "outputs": [
        {
          "output_type": "execute_result",
          "data": {
            "text/plain": [
              "      unique_genres\n",
              "0             Music\n",
              "1            Action\n",
              "2   Science Fiction\n",
              "3          TV Movie\n",
              "4         Adventure\n",
              "5            Family\n",
              "6            Comedy\n",
              "7             Crime\n",
              "8               War\n",
              "9            Horror\n",
              "10        Animation\n",
              "11          Foreign\n",
              "12            Drama\n",
              "13          Romance\n",
              "14          Western\n",
              "15          History\n",
              "16          Mystery\n",
              "17      Documentary\n",
              "18         Thriller\n",
              "19          Fantasy"
            ],
            "text/html": [
              "\n",
              "  <div id=\"df-d29e673c-3318-42e3-ad34-4e137a30b9ab\">\n",
              "    <div class=\"colab-df-container\">\n",
              "      <div>\n",
              "<style scoped>\n",
              "    .dataframe tbody tr th:only-of-type {\n",
              "        vertical-align: middle;\n",
              "    }\n",
              "\n",
              "    .dataframe tbody tr th {\n",
              "        vertical-align: top;\n",
              "    }\n",
              "\n",
              "    .dataframe thead th {\n",
              "        text-align: right;\n",
              "    }\n",
              "</style>\n",
              "<table border=\"1\" class=\"dataframe\">\n",
              "  <thead>\n",
              "    <tr style=\"text-align: right;\">\n",
              "      <th></th>\n",
              "      <th>unique_genres</th>\n",
              "    </tr>\n",
              "  </thead>\n",
              "  <tbody>\n",
              "    <tr>\n",
              "      <th>0</th>\n",
              "      <td>Music</td>\n",
              "    </tr>\n",
              "    <tr>\n",
              "      <th>1</th>\n",
              "      <td>Action</td>\n",
              "    </tr>\n",
              "    <tr>\n",
              "      <th>2</th>\n",
              "      <td>Science Fiction</td>\n",
              "    </tr>\n",
              "    <tr>\n",
              "      <th>3</th>\n",
              "      <td>TV Movie</td>\n",
              "    </tr>\n",
              "    <tr>\n",
              "      <th>4</th>\n",
              "      <td>Adventure</td>\n",
              "    </tr>\n",
              "    <tr>\n",
              "      <th>5</th>\n",
              "      <td>Family</td>\n",
              "    </tr>\n",
              "    <tr>\n",
              "      <th>6</th>\n",
              "      <td>Comedy</td>\n",
              "    </tr>\n",
              "    <tr>\n",
              "      <th>7</th>\n",
              "      <td>Crime</td>\n",
              "    </tr>\n",
              "    <tr>\n",
              "      <th>8</th>\n",
              "      <td>War</td>\n",
              "    </tr>\n",
              "    <tr>\n",
              "      <th>9</th>\n",
              "      <td>Horror</td>\n",
              "    </tr>\n",
              "    <tr>\n",
              "      <th>10</th>\n",
              "      <td>Animation</td>\n",
              "    </tr>\n",
              "    <tr>\n",
              "      <th>11</th>\n",
              "      <td>Foreign</td>\n",
              "    </tr>\n",
              "    <tr>\n",
              "      <th>12</th>\n",
              "      <td>Drama</td>\n",
              "    </tr>\n",
              "    <tr>\n",
              "      <th>13</th>\n",
              "      <td>Romance</td>\n",
              "    </tr>\n",
              "    <tr>\n",
              "      <th>14</th>\n",
              "      <td>Western</td>\n",
              "    </tr>\n",
              "    <tr>\n",
              "      <th>15</th>\n",
              "      <td>History</td>\n",
              "    </tr>\n",
              "    <tr>\n",
              "      <th>16</th>\n",
              "      <td>Mystery</td>\n",
              "    </tr>\n",
              "    <tr>\n",
              "      <th>17</th>\n",
              "      <td>Documentary</td>\n",
              "    </tr>\n",
              "    <tr>\n",
              "      <th>18</th>\n",
              "      <td>Thriller</td>\n",
              "    </tr>\n",
              "    <tr>\n",
              "      <th>19</th>\n",
              "      <td>Fantasy</td>\n",
              "    </tr>\n",
              "  </tbody>\n",
              "</table>\n",
              "</div>\n",
              "      <button class=\"colab-df-convert\" onclick=\"convertToInteractive('df-d29e673c-3318-42e3-ad34-4e137a30b9ab')\"\n",
              "              title=\"Convert this dataframe to an interactive table.\"\n",
              "              style=\"display:none;\">\n",
              "        \n",
              "  <svg xmlns=\"http://www.w3.org/2000/svg\" height=\"24px\"viewBox=\"0 0 24 24\"\n",
              "       width=\"24px\">\n",
              "    <path d=\"M0 0h24v24H0V0z\" fill=\"none\"/>\n",
              "    <path d=\"M18.56 5.44l.94 2.06.94-2.06 2.06-.94-2.06-.94-.94-2.06-.94 2.06-2.06.94zm-11 1L8.5 8.5l.94-2.06 2.06-.94-2.06-.94L8.5 2.5l-.94 2.06-2.06.94zm10 10l.94 2.06.94-2.06 2.06-.94-2.06-.94-.94-2.06-.94 2.06-2.06.94z\"/><path d=\"M17.41 7.96l-1.37-1.37c-.4-.4-.92-.59-1.43-.59-.52 0-1.04.2-1.43.59L10.3 9.45l-7.72 7.72c-.78.78-.78 2.05 0 2.83L4 21.41c.39.39.9.59 1.41.59.51 0 1.02-.2 1.41-.59l7.78-7.78 2.81-2.81c.8-.78.8-2.07 0-2.86zM5.41 20L4 18.59l7.72-7.72 1.47 1.35L5.41 20z\"/>\n",
              "  </svg>\n",
              "      </button>\n",
              "      \n",
              "  <style>\n",
              "    .colab-df-container {\n",
              "      display:flex;\n",
              "      flex-wrap:wrap;\n",
              "      gap: 12px;\n",
              "    }\n",
              "\n",
              "    .colab-df-convert {\n",
              "      background-color: #E8F0FE;\n",
              "      border: none;\n",
              "      border-radius: 50%;\n",
              "      cursor: pointer;\n",
              "      display: none;\n",
              "      fill: #1967D2;\n",
              "      height: 32px;\n",
              "      padding: 0 0 0 0;\n",
              "      width: 32px;\n",
              "    }\n",
              "\n",
              "    .colab-df-convert:hover {\n",
              "      background-color: #E2EBFA;\n",
              "      box-shadow: 0px 1px 2px rgba(60, 64, 67, 0.3), 0px 1px 3px 1px rgba(60, 64, 67, 0.15);\n",
              "      fill: #174EA6;\n",
              "    }\n",
              "\n",
              "    [theme=dark] .colab-df-convert {\n",
              "      background-color: #3B4455;\n",
              "      fill: #D2E3FC;\n",
              "    }\n",
              "\n",
              "    [theme=dark] .colab-df-convert:hover {\n",
              "      background-color: #434B5C;\n",
              "      box-shadow: 0px 1px 3px 1px rgba(0, 0, 0, 0.15);\n",
              "      filter: drop-shadow(0px 1px 2px rgba(0, 0, 0, 0.3));\n",
              "      fill: #FFFFFF;\n",
              "    }\n",
              "  </style>\n",
              "\n",
              "      <script>\n",
              "        const buttonEl =\n",
              "          document.querySelector('#df-d29e673c-3318-42e3-ad34-4e137a30b9ab button.colab-df-convert');\n",
              "        buttonEl.style.display =\n",
              "          google.colab.kernel.accessAllowed ? 'block' : 'none';\n",
              "\n",
              "        async function convertToInteractive(key) {\n",
              "          const element = document.querySelector('#df-d29e673c-3318-42e3-ad34-4e137a30b9ab');\n",
              "          const dataTable =\n",
              "            await google.colab.kernel.invokeFunction('convertToInteractive',\n",
              "                                                     [key], {});\n",
              "          if (!dataTable) return;\n",
              "\n",
              "          const docLinkHtml = 'Like what you see? Visit the ' +\n",
              "            '<a target=\"_blank\" href=https://colab.research.google.com/notebooks/data_table.ipynb>data table notebook</a>'\n",
              "            + ' to learn more about interactive tables.';\n",
              "          element.innerHTML = '';\n",
              "          dataTable['output_type'] = 'display_data';\n",
              "          await google.colab.output.renderOutput(dataTable, element);\n",
              "          const docLink = document.createElement('div');\n",
              "          docLink.innerHTML = docLinkHtml;\n",
              "          element.appendChild(docLink);\n",
              "        }\n",
              "      </script>\n",
              "    </div>\n",
              "  </div>\n",
              "  "
            ]
          },
          "metadata": {},
          "execution_count": 315
        }
      ]
    },
    {
      "cell_type": "markdown",
      "source": [
        "## **Make a table of all the producers and directors of each movie. Find the top 3 producers who have produced movies with the highest average RoI?**"
      ],
      "metadata": {
        "id": "nAliKmcQIk2O"
      }
    },
    {
      "cell_type": "code",
      "source": [
        "new_imdb_df.head()"
      ],
      "metadata": {
        "id": "1vJqYgGgzflU"
      },
      "execution_count": null,
      "outputs": []
    },
    {
      "cell_type": "code",
      "source": [
        "# creat the dataframe of non null crew values\n",
        "non_null_crew=new_imdb_df[~new_imdb_df['crew'].isna()]"
      ],
      "metadata": {
        "id": "MBx72AIDJBjw"
      },
      "execution_count": 317,
      "outputs": []
    },
    {
      "cell_type": "code",
      "source": [
        "non_null_crew.head(2)"
      ],
      "metadata": {
        "id": "WRFVqcN9JB2K"
      },
      "execution_count": null,
      "outputs": []
    },
    {
      "cell_type": "code",
      "source": [
        "non_null_crew.loc[0,'crew']"
      ],
      "metadata": {
        "colab": {
          "base_uri": "https://localhost:8080/"
        },
        "id": "wA0JiSolJCBR",
        "outputId": "b853182c-9296-40f5-8fe1-047eb543e85f"
      },
      "execution_count": 319,
      "outputs": [
        {
          "output_type": "execute_result",
          "data": {
            "text/plain": [
              "[{'credit_id': '59ac067c92514107af02c8c8',\n",
              "  'department': 'Directing',\n",
              "  'gender': 0,\n",
              "  'id': 1449071,\n",
              "  'job': 'First Assistant Director',\n",
              "  'name': 'Kelly Cantley',\n",
              "  'profile_path': None},\n",
              " {'credit_id': '52fe4ee7c3a36847f82afad7',\n",
              "  'department': 'Directing',\n",
              "  'gender': 2,\n",
              "  'id': 3227,\n",
              "  'job': 'Director',\n",
              "  'name': 'Steve Pink',\n",
              "  'profile_path': '/myHOgo8mQSCiCAZNGMRdHVr03jr.jpg'},\n",
              " {'credit_id': '5524ed25c3a3687ded000d88',\n",
              "  'department': 'Writing',\n",
              "  'gender': 2,\n",
              "  'id': 347335,\n",
              "  'job': 'Writer',\n",
              "  'name': 'Josh Heald',\n",
              "  'profile_path': '/pwXJIenrDMrG7t3zNfLvr8w1RGU.jpg'},\n",
              " {'credit_id': '5524ed2d925141720c001128',\n",
              "  'department': 'Writing',\n",
              "  'gender': 2,\n",
              "  'id': 347335,\n",
              "  'job': 'Characters',\n",
              "  'name': 'Josh Heald',\n",
              "  'profile_path': '/pwXJIenrDMrG7t3zNfLvr8w1RGU.jpg'},\n",
              " {'credit_id': '5524ed3d92514166c1004a5d',\n",
              "  'department': 'Production',\n",
              "  'gender': 2,\n",
              "  'id': 57822,\n",
              "  'job': 'Producer',\n",
              "  'name': 'Andrew Panay',\n",
              "  'profile_path': None},\n",
              " {'credit_id': '5524ed4bc3a3687df3000dd2',\n",
              "  'department': 'Production',\n",
              "  'gender': 0,\n",
              "  'id': 1451395,\n",
              "  'job': 'Associate Producer',\n",
              "  'name': 'Adam Blum',\n",
              "  'profile_path': None},\n",
              " {'credit_id': '5524ed5a925141720c00112c',\n",
              "  'department': 'Production',\n",
              "  'gender': 2,\n",
              "  'id': 52997,\n",
              "  'job': 'Executive Producer',\n",
              "  'name': 'Rob Corddry',\n",
              "  'profile_path': '/k2zJL0V1nEZuFT08xUdOd3ucfXz.jpg'},\n",
              " {'credit_id': '5524ed85c3a3687e0e000f56',\n",
              "  'department': 'Production',\n",
              "  'gender': 0,\n",
              "  'id': 62807,\n",
              "  'job': 'Executive Producer',\n",
              "  'name': 'Ben Ormand',\n",
              "  'profile_path': None},\n",
              " {'credit_id': '5524ed9fc3a3687e0e000f59',\n",
              "  'department': 'Sound',\n",
              "  'gender': 2,\n",
              "  'id': 23486,\n",
              "  'job': 'Original Music Composer',\n",
              "  'name': 'Christophe Beck',\n",
              "  'profile_path': '/2fnJUmCk6IEpVIptpYaUk31epHx.jpg'},\n",
              " {'credit_id': '5524eda6c3a3687e03000d28',\n",
              "  'department': 'Camera',\n",
              "  'gender': 2,\n",
              "  'id': 6117,\n",
              "  'job': 'Director of Photography',\n",
              "  'name': 'Declan Quinn',\n",
              "  'profile_path': None},\n",
              " {'credit_id': '5524edb4925141720c00113d',\n",
              "  'department': 'Editing',\n",
              "  'gender': 0,\n",
              "  'id': 1451396,\n",
              "  'job': 'Editor',\n",
              "  'name': 'Jamie Gross',\n",
              "  'profile_path': None},\n",
              " {'credit_id': '5524edc1925141727600102e',\n",
              "  'department': 'Production',\n",
              "  'gender': 0,\n",
              "  'id': 22219,\n",
              "  'job': 'Casting',\n",
              "  'name': 'Susie Farris',\n",
              "  'profile_path': None},\n",
              " {'credit_id': '5524edd192514171cb008257',\n",
              "  'department': 'Art',\n",
              "  'gender': 0,\n",
              "  'id': 1002643,\n",
              "  'job': 'Production Design',\n",
              "  'name': 'Ryan Berg',\n",
              "  'profile_path': None},\n",
              " {'credit_id': '555ad9be9251411e5b00d485',\n",
              "  'department': 'Production',\n",
              "  'gender': 2,\n",
              "  'id': 57431,\n",
              "  'job': 'Executive Producer',\n",
              "  'name': 'Matt Moore',\n",
              "  'profile_path': None},\n",
              " {'credit_id': '5677e93bc3a36816890087dc',\n",
              "  'department': 'Directing',\n",
              "  'gender': 0,\n",
              "  'id': 1551818,\n",
              "  'job': 'Script Supervisor',\n",
              "  'name': 'Nicole Garcea',\n",
              "  'profile_path': None},\n",
              " {'credit_id': '5677e96a92514179e10093d0',\n",
              "  'department': 'Production',\n",
              "  'gender': 0,\n",
              "  'id': 1551819,\n",
              "  'job': 'Production Coordinator',\n",
              "  'name': 'Jason Salzman',\n",
              "  'profile_path': None},\n",
              " {'credit_id': '5677e98492514179d2008cd9',\n",
              "  'department': 'Costume & Make-Up',\n",
              "  'gender': 0,\n",
              "  'id': 1422996,\n",
              "  'job': 'Costume Design',\n",
              "  'name': 'Carol Cutshall',\n",
              "  'profile_path': None},\n",
              " {'credit_id': '5677e9d5c3a368168e009414',\n",
              "  'department': 'Art',\n",
              "  'gender': 2,\n",
              "  'id': 500199,\n",
              "  'job': 'Set Decoration',\n",
              "  'name': 'Tim Cohn',\n",
              "  'profile_path': None},\n",
              " {'credit_id': '5677f89d9251417845001a61',\n",
              "  'department': 'Costume & Make-Up',\n",
              "  'gender': 0,\n",
              "  'id': 1527917,\n",
              "  'job': 'Hair Department Head',\n",
              "  'name': 'Voni Hinkle',\n",
              "  'profile_path': None},\n",
              " {'credit_id': '5677f8b392514179dd0089fb',\n",
              "  'department': 'Costume & Make-Up',\n",
              "  'gender': 0,\n",
              "  'id': 1431554,\n",
              "  'job': 'Makeup Department Head',\n",
              "  'name': 'Remi Savva',\n",
              "  'profile_path': None},\n",
              " {'credit_id': '5677f8d1c3a3681689008a4b',\n",
              "  'department': 'Art',\n",
              "  'gender': 0,\n",
              "  'id': 66495,\n",
              "  'job': 'Art Direction',\n",
              "  'name': 'Jason Baldwin Stewart',\n",
              "  'profile_path': None},\n",
              " {'credit_id': '5677f8eec3a3681685008dd5',\n",
              "  'department': 'Production',\n",
              "  'gender': 0,\n",
              "  'id': 1412466,\n",
              "  'job': 'Production Supervisor',\n",
              "  'name': 'Korey Budd',\n",
              "  'profile_path': None},\n",
              " {'credit_id': '5677f90a9251417845001a7d',\n",
              "  'department': 'Sound',\n",
              "  'gender': 0,\n",
              "  'id': 1401562,\n",
              "  'job': 'Sound Re-Recording Mixer',\n",
              "  'name': 'Gary C. Bourgeois',\n",
              "  'profile_path': None},\n",
              " {'credit_id': '5677f91e9251417845001a84',\n",
              "  'department': 'Sound',\n",
              "  'gender': 0,\n",
              "  'id': 1396794,\n",
              "  'job': 'Sound Re-Recording Mixer',\n",
              "  'name': 'Gabriel J. Serrano',\n",
              "  'profile_path': None},\n",
              " {'credit_id': '5677f938c3a3681680008dd4',\n",
              "  'department': 'Editing',\n",
              "  'gender': 0,\n",
              "  'id': 13168,\n",
              "  'job': 'Dialogue Editor',\n",
              "  'name': 'Victoria Rose Sampson',\n",
              "  'profile_path': None},\n",
              " {'credit_id': '5677f94e92514179dd008a1f',\n",
              "  'department': 'Sound',\n",
              "  'gender': 0,\n",
              "  'id': 1551839,\n",
              "  'job': 'Production Sound Mixer',\n",
              "  'name': 'Michael B. Koff',\n",
              "  'profile_path': None},\n",
              " {'credit_id': '5677f968c3a368168e009698',\n",
              "  'department': 'Sound',\n",
              "  'gender': 0,\n",
              "  'id': 113052,\n",
              "  'job': 'Sound Effects Editor',\n",
              "  'name': 'Randall Guth',\n",
              "  'profile_path': None},\n",
              " {'credit_id': '5677f98dc3a3681685008e02',\n",
              "  'department': 'Crew',\n",
              "  'gender': 2,\n",
              "  'id': 1442535,\n",
              "  'job': 'Stunt Coordinator',\n",
              "  'name': 'Chuck Picerni Jr.',\n",
              "  'profile_path': '/yE5QtXUzcrnCzMRctZL8F5g842B.jpg'},\n",
              " {'credit_id': '5677f9a692514179dd008a49',\n",
              "  'department': 'Camera',\n",
              "  'gender': 0,\n",
              "  'id': 1437305,\n",
              "  'job': 'Camera Operator',\n",
              "  'name': 'Michael Applebaum',\n",
              "  'profile_path': None},\n",
              " {'credit_id': '5677f9bd9251417845001aae',\n",
              "  'department': 'Camera',\n",
              "  'gender': 0,\n",
              "  'id': 1401765,\n",
              "  'job': 'Still Photographer',\n",
              "  'name': 'Steve Dietl',\n",
              "  'profile_path': None},\n",
              " {'credit_id': '5677f9e592514179e7008bf7',\n",
              "  'department': 'Lighting',\n",
              "  'gender': 0,\n",
              "  'id': 1402721,\n",
              "  'job': 'Rigging Gaffer',\n",
              "  'name': 'Tarik Naim Alherimi',\n",
              "  'profile_path': None},\n",
              " {'credit_id': '5677f9f4c3a368167c0090ed',\n",
              "  'department': 'Lighting',\n",
              "  'gender': 0,\n",
              "  'id': 1402719,\n",
              "  'job': 'Gaffer',\n",
              "  'name': 'Paul Olinde',\n",
              "  'profile_path': None},\n",
              " {'credit_id': '5677fa21c3a368168e0096ca',\n",
              "  'department': 'Sound',\n",
              "  'gender': 0,\n",
              "  'id': 1551840,\n",
              "  'job': 'Music Supervisor',\n",
              "  'name': 'Steve Griffen',\n",
              "  'profile_path': None},\n",
              " {'credit_id': '5677fa31c3a3681680008e04',\n",
              "  'department': 'Sound',\n",
              "  'gender': 0,\n",
              "  'id': 1551841,\n",
              "  'job': 'Music Editor',\n",
              "  'name': 'Matt Fausak',\n",
              "  'profile_path': None},\n",
              " {'credit_id': '5677fa4392514179dd008a76',\n",
              "  'department': 'Sound',\n",
              "  'gender': 0,\n",
              "  'id': 1551840,\n",
              "  'job': 'Music Editor',\n",
              "  'name': 'Steve Griffen',\n",
              "  'profile_path': None},\n",
              " {'credit_id': '5677fa609251417845001acf',\n",
              "  'department': 'Costume & Make-Up',\n",
              "  'gender': 0,\n",
              "  'id': 1403416,\n",
              "  'job': 'Costume Supervisor',\n",
              "  'name': 'Shonta T. McCray',\n",
              "  'profile_path': None},\n",
              " {'credit_id': '5677fa8492514179d2008fb3',\n",
              "  'department': 'Camera',\n",
              "  'gender': 0,\n",
              "  'id': 1425831,\n",
              "  'job': 'Steadicam Operator',\n",
              "  'name': 'Mark Karavite',\n",
              "  'profile_path': None},\n",
              " {'credit_id': '5677fab2c3a3681689008ac3',\n",
              "  'department': 'Camera',\n",
              "  'gender': 0,\n",
              "  'id': 1551842,\n",
              "  'job': 'First Assistant Camera',\n",
              "  'name': 'Joe Waistell',\n",
              "  'profile_path': None},\n",
              " {'credit_id': '5677faecc3a368168e0096fe',\n",
              "  'department': 'Sound',\n",
              "  'gender': 0,\n",
              "  'id': 58362,\n",
              "  'job': 'Supervising Sound Editor',\n",
              "  'name': 'Michael Hilkene',\n",
              "  'profile_path': None},\n",
              " {'credit_id': '59ac0368c3a3682c0a02c484',\n",
              "  'department': 'Crew',\n",
              "  'gender': 0,\n",
              "  'id': 1881584,\n",
              "  'job': 'Additional Writing',\n",
              "  'name': 'John Karnay',\n",
              "  'profile_path': None},\n",
              " {'credit_id': '59ac0411c3a3682bf0028966',\n",
              "  'department': 'Costume & Make-Up',\n",
              "  'gender': 0,\n",
              "  'id': 1431552,\n",
              "  'job': 'Hairstylist',\n",
              "  'name': 'Daina Daigle',\n",
              "  'profile_path': None},\n",
              " {'credit_id': '59ac0504925141072302b8fb',\n",
              "  'department': 'Costume & Make-Up',\n",
              "  'gender': 0,\n",
              "  'id': 1712001,\n",
              "  'job': 'Makeup Artist',\n",
              "  'name': 'Allison Gordin',\n",
              "  'profile_path': None},\n",
              " {'credit_id': '59ac0570c3a3682bf0028aac',\n",
              "  'department': 'Costume & Make-Up',\n",
              "  'gender': 0,\n",
              "  'id': 578725,\n",
              "  'job': 'Makeup Artist',\n",
              "  'name': 'Darryl Lucas',\n",
              "  'profile_path': None},\n",
              " {'credit_id': '59ac05a4925141077e02c97e',\n",
              "  'department': 'Costume & Make-Up',\n",
              "  'gender': 0,\n",
              "  'id': 1463274,\n",
              "  'job': 'Makeup Artist',\n",
              "  'name': 'Annabelle MacNeal',\n",
              "  'profile_path': None},\n",
              " {'credit_id': '59ac05c6925141076502d106',\n",
              "  'department': 'Costume & Make-Up',\n",
              "  'gender': 0,\n",
              "  'id': 1881586,\n",
              "  'job': 'Makeup Artist',\n",
              "  'name': 'Marina Savva',\n",
              "  'profile_path': None},\n",
              " {'credit_id': '59ac0615c3a3682c480296aa',\n",
              "  'department': 'Costume & Make-Up',\n",
              "  'gender': 0,\n",
              "  'id': 1406267,\n",
              "  'job': 'Hairstylist',\n",
              "  'name': 'Carl G. Variste',\n",
              "  'profile_path': None},\n",
              " {'credit_id': '59ac06ba925141076502d1fa',\n",
              "  'department': 'Directing',\n",
              "  'gender': 0,\n",
              "  'id': 1798593,\n",
              "  'job': 'First Assistant Director',\n",
              "  'name': 'Josh King',\n",
              "  'profile_path': None},\n",
              " {'credit_id': '59ac06f1c3a3682c2202aca0',\n",
              "  'department': 'Art',\n",
              "  'gender': 0,\n",
              "  'id': 1415083,\n",
              "  'job': 'Greensman',\n",
              "  'name': 'Scott C. Bivona',\n",
              "  'profile_path': None},\n",
              " {'credit_id': '59ac072c925141076502d260',\n",
              "  'department': 'Art',\n",
              "  'gender': 0,\n",
              "  'id': 1881587,\n",
              "  'job': 'Title Designer',\n",
              "  'name': 'Eunha Choi',\n",
              "  'profile_path': None},\n",
              " {'credit_id': '59ac077c925141077e02cb62',\n",
              "  'department': 'Art',\n",
              "  'gender': 0,\n",
              "  'id': 1585302,\n",
              "  'job': 'Construction Coordinator',\n",
              "  'name': 'Daniel Coe',\n",
              "  'profile_path': None},\n",
              " {'credit_id': '59ac07e0925141078a02d842',\n",
              "  'department': 'Art',\n",
              "  'gender': 0,\n",
              "  'id': 1495523,\n",
              "  'job': 'Set Designer',\n",
              "  'name': 'Spencer Davison',\n",
              "  'profile_path': None},\n",
              " {'credit_id': '59ac0862925141072f02cf6f',\n",
              "  'department': 'Art',\n",
              "  'gender': 0,\n",
              "  'id': 1881589,\n",
              "  'job': 'Painter',\n",
              "  'name': 'Sonia L. Garcia',\n",
              "  'profile_path': None},\n",
              " {'credit_id': '59ac08e0c3a3682bf0028e51',\n",
              "  'department': 'Art',\n",
              "  'gender': 0,\n",
              "  'id': 1424896,\n",
              "  'job': 'Art Department Coordinator',\n",
              "  'name': 'Caleb Guillotte',\n",
              "  'profile_path': None},\n",
              " {'credit_id': '59ac0920c3a3682c2202af36',\n",
              "  'department': 'Art',\n",
              "  'gender': 0,\n",
              "  'id': 1393375,\n",
              "  'job': 'Leadman',\n",
              "  'name': \"Pat A. O'Connor\",\n",
              "  'profile_path': None},\n",
              " {'credit_id': '59ac095592514107af02cc39',\n",
              "  'department': 'Art',\n",
              "  'gender': 0,\n",
              "  'id': 1881592,\n",
              "  'job': 'Set Designer',\n",
              "  'name': 'Brendan Turrill',\n",
              "  'profile_path': None},\n",
              " {'credit_id': '59ac0989925141072302bdfa',\n",
              "  'department': 'Art',\n",
              "  'gender': 2,\n",
              "  'id': 76497,\n",
              "  'job': 'Property Master',\n",
              "  'name': 'Brook Yeaton',\n",
              "  'profile_path': None},\n",
              " {'credit_id': '59ac0a2cc3a3682c9c02add1',\n",
              "  'department': 'Sound',\n",
              "  'gender': 0,\n",
              "  'id': 1881596,\n",
              "  'job': 'Boom Operator',\n",
              "  'name': 'Matthew Armstrong',\n",
              "  'profile_path': None},\n",
              " {'credit_id': '59ac0aa8925141072f02d282',\n",
              "  'department': 'Visual Effects',\n",
              "  'gender': 2,\n",
              "  'id': 1558086,\n",
              "  'job': 'Special Effects Supervisor',\n",
              "  'name': 'Matt Kutcher',\n",
              "  'profile_path': None},\n",
              " {'credit_id': '59ac0b2ac3a3682c2202b192',\n",
              "  'department': 'Crew',\n",
              "  'gender': 2,\n",
              "  'id': 1558087,\n",
              "  'job': 'Special Effects Coordinator',\n",
              "  'name': 'Eric Roberts',\n",
              "  'profile_path': None},\n",
              " {'credit_id': '59ac0b7ac3a3682c2202b1fb',\n",
              "  'department': 'Visual Effects',\n",
              "  'gender': 0,\n",
              "  'id': 1392098,\n",
              "  'job': 'Visual Effects Supervisor',\n",
              "  'name': 'Rocco Passionino',\n",
              "  'profile_path': None},\n",
              " {'credit_id': '59ac0bbe925141077e02d0c4',\n",
              "  'department': 'Visual Effects',\n",
              "  'gender': 0,\n",
              "  'id': 1558716,\n",
              "  'job': 'Visual Effects Coordinator',\n",
              "  'name': 'Joseph Payo',\n",
              "  'profile_path': None},\n",
              " {'credit_id': '59ac0bf2c3a3682cc802cefa',\n",
              "  'department': 'Visual Effects',\n",
              "  'gender': 0,\n",
              "  'id': 1408784,\n",
              "  'job': 'Visual Effects Producer',\n",
              "  'name': 'Chris Roff',\n",
              "  'profile_path': None},\n",
              " {'credit_id': '59ac0c51c3a3682c48029d99',\n",
              "  'department': 'Lighting',\n",
              "  'gender': 0,\n",
              "  'id': 1881600,\n",
              "  'job': 'Best Boy Electric',\n",
              "  'name': 'Ulyan Atamanyuk',\n",
              "  'profile_path': None},\n",
              " {'credit_id': '59ac0cbac3a3682c0a02cff6',\n",
              "  'department': 'Camera',\n",
              "  'gender': 0,\n",
              "  'id': 1881602,\n",
              "  'job': 'Key Grip',\n",
              "  'name': 'Chris Ekstrom',\n",
              "  'profile_path': None},\n",
              " {'credit_id': '59ac0d54925141072f02d5e6',\n",
              "  'department': 'Lighting',\n",
              "  'gender': 0,\n",
              "  'id': 1484984,\n",
              "  'job': 'Best Boy Electric',\n",
              "  'name': 'Brad Garris',\n",
              "  'profile_path': None},\n",
              " {'credit_id': '59ac0db0925141078a02df86',\n",
              "  'department': 'Camera',\n",
              "  'gender': 0,\n",
              "  'id': 1881603,\n",
              "  'job': 'Dolly Grip',\n",
              "  'name': 'Kendell Joseph',\n",
              "  'profile_path': None},\n",
              " {'credit_id': '59ac0e5a925141077e02d39f',\n",
              "  'department': 'Camera',\n",
              "  'gender': 0,\n",
              "  'id': 1549179,\n",
              "  'job': 'Dolly Grip',\n",
              "  'name': 'Spencer Wilcox',\n",
              "  'profile_path': None},\n",
              " {'credit_id': '59ac0e9f925141079d02bee6',\n",
              "  'department': 'Costume & Make-Up',\n",
              "  'gender': 0,\n",
              "  'id': 1552626,\n",
              "  'job': 'Key Costumer',\n",
              "  'name': 'Sarah P. Koeppe',\n",
              "  'profile_path': None},\n",
              " {'credit_id': '59ac0ec1c3a3682bf0029524',\n",
              "  'department': 'Costume & Make-Up',\n",
              "  'gender': 0,\n",
              "  'id': 1881605,\n",
              "  'job': 'Seamstress',\n",
              "  'name': 'Catherine Rodi',\n",
              "  'profile_path': None},\n",
              " {'credit_id': '59ac0eef925141070702c7ff',\n",
              "  'department': 'Costume & Make-Up',\n",
              "  'gender': 0,\n",
              "  'id': 1463801,\n",
              "  'job': 'Seamstress',\n",
              "  'name': 'Giselle Spence',\n",
              "  'profile_path': None},\n",
              " {'credit_id': '59ac0f5dc3a3682c4802a0f5',\n",
              "  'department': 'Production',\n",
              "  'gender': 0,\n",
              "  'id': 1400837,\n",
              "  'job': 'Location Manager',\n",
              "  'name': 'John A. Johnston',\n",
              "  'profile_path': None},\n",
              " {'credit_id': '59ac0ff2c3a3682c4802a196',\n",
              "  'department': 'Crew',\n",
              "  'gender': 0,\n",
              "  'id': 1844322,\n",
              "  'job': 'Production Controller',\n",
              "  'name': 'Gail Marks',\n",
              "  'profile_path': None}]"
            ]
          },
          "metadata": {},
          "execution_count": 319
        }
      ]
    },
    {
      "cell_type": "code",
      "source": [
        "# create function to get the list of producer in non_null_crew\n",
        "def create_producer_list(index):\n",
        "  movie_index=non_null_crew.iloc[index]\n",
        "  crew_data=movie_index.loc['crew']\n",
        "  producer_lists=[]\n",
        "  for elem in crew_data:\n",
        "    if elem['job']=='Producer':\n",
        "      producer_lists.append(elem['name'])\n",
        "  return producer_lists\n"
      ],
      "metadata": {
        "id": "mtYRdtdWJCMT"
      },
      "execution_count": 322,
      "outputs": []
    },
    {
      "cell_type": "code",
      "source": [
        "create_producer_list(61)"
      ],
      "metadata": {
        "colab": {
          "base_uri": "https://localhost:8080/"
        },
        "id": "NYXDtiQ1JCWO",
        "outputId": "a2e72be9-eccd-41bb-8203-651eebb46ed9"
      },
      "execution_count": 323,
      "outputs": [
        {
          "output_type": "execute_result",
          "data": {
            "text/plain": [
              "['James Hill']"
            ]
          },
          "metadata": {},
          "execution_count": 323
        }
      ]
    },
    {
      "cell_type": "code",
      "source": [
        "# same way create the list of director from non null crew dataframe\n",
        "def create_director_list(index):\n",
        "  movie_index=non_null_crew.iloc[index]\n",
        "  crew_data=movie_index.loc['crew']\n",
        "  directors_lists=[]\n",
        "  for elem in crew_data:\n",
        "    if elem['job']=='Director':\n",
        "      directors_lists.append(elem['name'])\n",
        "  return directors_lists\n"
      ],
      "metadata": {
        "id": "J4GDqYS-RCVK"
      },
      "execution_count": 324,
      "outputs": []
    },
    {
      "cell_type": "code",
      "source": [
        "create_director_list(61)"
      ],
      "metadata": {
        "colab": {
          "base_uri": "https://localhost:8080/"
        },
        "id": "OwngySGNRCgE",
        "outputId": "16ee5d4e-6ace-4b74-9cc8-d19a8d39f092"
      },
      "execution_count": 325,
      "outputs": [
        {
          "output_type": "execute_result",
          "data": {
            "text/plain": [
              "['Carol Reed']"
            ]
          },
          "metadata": {},
          "execution_count": 325
        }
      ]
    },
    {
      "cell_type": "code",
      "source": [],
      "metadata": {
        "id": "WYguUcQkRCsT"
      },
      "execution_count": null,
      "outputs": []
    },
    {
      "cell_type": "code",
      "source": [],
      "metadata": {
        "id": "_GJQIJklRC2O"
      },
      "execution_count": null,
      "outputs": []
    }
  ]
}